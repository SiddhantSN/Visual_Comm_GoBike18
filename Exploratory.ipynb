{
 "cells": [
  {
   "cell_type": "markdown",
   "metadata": {},
   "source": [
    "# Analyzing Ford GoBike Trip Data (2018) \n",
    "\n",
    "\n",
    "## Table of Contents\n",
    "- [Introduction](#intro)\n",
    "- [Part I - Gathering Data](#gather)\n",
    "- [Part II - Assessing Data](#assess)\n",
    "- [Part III - Cleaning Data](#clean)\n",
    "- [Part IV - Univariate Exploration](#univariate)\n",
    "- [Part V - Bivariate Exploration](#bivariate)\n",
    "- [Part VI - Multivariate Exploration](#multivariate)"
   ]
  },
  {
   "cell_type": "markdown",
   "metadata": {},
   "source": [
    "<a id='intro'></a>\n",
    "### Introduction\n",
    "\n",
    "Ford GoBike is a regional public bicycle sharing system in the San Francisco Bay Area, California. Beginning operation in August 2013 as Bay Area Bike Share, the Ford GoBike system currently has over 2,600 bicycles in 262 stations across San Francisco, East Bay and San Jose. On June 28, 2017, the system officially launched as Ford GoBike in a partnership with Ford Motor Company.\n",
    "<br>\n",
    "<br>Ford GoBike, like other bike share systems, consists of a fleet of specially designed, sturdy and durable bikes that are locked into a network of docking stations throughout the city. The bikes can be unlocked from one station and returned to any other station in the system, making them ideal for one-way trips. The bikes are available for use 24 hours/day, 7 days/week, 365 days/year and riders have access to all bikes in the network when they become a member or purchase a pass.\n",
    "\n",
    "### Preliminary Wrangling\n",
    "\n",
    "This document explores the Ford GoBike's trip data for public containing approximately 1,850,000 bike rides from 2018."
   ]
  },
  {
   "cell_type": "markdown",
   "metadata": {},
   "source": [
    "<a id='gather'></a>\n",
    "## Part I - Gathering Data"
   ]
  },
  {
   "cell_type": "code",
   "execution_count": 15,
   "metadata": {},
   "outputs": [],
   "source": [
    "# import all packages and set plots to be embedded inline\n",
    "import numpy as np\n",
    "import pandas as pd\n",
    "import matplotlib.pyplot as plt\n",
    "import seaborn as sns\n",
    "import datetime\n",
    "import glob\n",
    "import os\n",
    "\n",
    "%matplotlib inline"
   ]
  },
  {
   "cell_type": "code",
   "execution_count": 16,
   "metadata": {},
   "outputs": [],
   "source": [
    "path= r'/Users/siddhant/Documents/Udacity/Projects/CommVisuals/CSV'"
   ]
  },
  {
   "cell_type": "code",
   "execution_count": 17,
   "metadata": {},
   "outputs": [],
   "source": [
    "files = glob.glob(os.path.join(path, \"*.csv\"))\n",
    "bike18 = pd.concat((pd.read_csv(f) for f in files), ignore_index = True)\n",
    "bike18.to_csv('fordgo.csv', index = False)"
   ]
  },
  {
   "cell_type": "code",
   "execution_count": 64,
   "metadata": {},
   "outputs": [],
   "source": [
    "bike18=pd.read_csv('fordgo.csv')"
   ]
  },
  {
   "cell_type": "markdown",
   "metadata": {},
   "source": [
    "<a id='assess'></a>\n",
    "## Part II - Assessing  Data"
   ]
  },
  {
   "cell_type": "code",
   "execution_count": 66,
   "metadata": {},
   "outputs": [
    {
     "data": {
      "text/html": [
       "<div>\n",
       "<style scoped>\n",
       "    .dataframe tbody tr th:only-of-type {\n",
       "        vertical-align: middle;\n",
       "    }\n",
       "\n",
       "    .dataframe tbody tr th {\n",
       "        vertical-align: top;\n",
       "    }\n",
       "\n",
       "    .dataframe thead th {\n",
       "        text-align: right;\n",
       "    }\n",
       "</style>\n",
       "<table border=\"1\" class=\"dataframe\">\n",
       "  <thead>\n",
       "    <tr style=\"text-align: right;\">\n",
       "      <th></th>\n",
       "      <th>duration_sec</th>\n",
       "      <th>start_time</th>\n",
       "      <th>end_time</th>\n",
       "      <th>start_station_id</th>\n",
       "      <th>start_station_name</th>\n",
       "      <th>start_station_latitude</th>\n",
       "      <th>start_station_longitude</th>\n",
       "      <th>end_station_id</th>\n",
       "      <th>end_station_name</th>\n",
       "      <th>end_station_latitude</th>\n",
       "      <th>end_station_longitude</th>\n",
       "      <th>bike_id</th>\n",
       "      <th>user_type</th>\n",
       "      <th>member_birth_year</th>\n",
       "      <th>member_gender</th>\n",
       "      <th>bike_share_for_all_trip</th>\n",
       "    </tr>\n",
       "  </thead>\n",
       "  <tbody>\n",
       "    <tr>\n",
       "      <th>0</th>\n",
       "      <td>598</td>\n",
       "      <td>2018-02-28 23:59:47.0970</td>\n",
       "      <td>2018-03-01 00:09:45.1870</td>\n",
       "      <td>284.0</td>\n",
       "      <td>Yerba Buena Center for the Arts (Howard St at ...</td>\n",
       "      <td>37.784872</td>\n",
       "      <td>-122.400876</td>\n",
       "      <td>114.0</td>\n",
       "      <td>Rhode Island St at 17th St</td>\n",
       "      <td>37.764478</td>\n",
       "      <td>-122.402570</td>\n",
       "      <td>1035</td>\n",
       "      <td>Subscriber</td>\n",
       "      <td>1988.0</td>\n",
       "      <td>Male</td>\n",
       "      <td>No</td>\n",
       "    </tr>\n",
       "    <tr>\n",
       "      <th>1</th>\n",
       "      <td>943</td>\n",
       "      <td>2018-02-28 23:21:16.4950</td>\n",
       "      <td>2018-02-28 23:36:59.9740</td>\n",
       "      <td>6.0</td>\n",
       "      <td>The Embarcadero at Sansome St</td>\n",
       "      <td>37.804770</td>\n",
       "      <td>-122.403234</td>\n",
       "      <td>324.0</td>\n",
       "      <td>Union Square (Powell St at Post St)</td>\n",
       "      <td>37.788300</td>\n",
       "      <td>-122.408531</td>\n",
       "      <td>1673</td>\n",
       "      <td>Customer</td>\n",
       "      <td>1987.0</td>\n",
       "      <td>Male</td>\n",
       "      <td>No</td>\n",
       "    </tr>\n",
       "    <tr>\n",
       "      <th>2</th>\n",
       "      <td>18587</td>\n",
       "      <td>2018-02-28 18:20:55.1900</td>\n",
       "      <td>2018-02-28 23:30:42.9250</td>\n",
       "      <td>93.0</td>\n",
       "      <td>4th St at Mission Bay Blvd S</td>\n",
       "      <td>37.770407</td>\n",
       "      <td>-122.391198</td>\n",
       "      <td>15.0</td>\n",
       "      <td>San Francisco Ferry Building (Harry Bridges Pl...</td>\n",
       "      <td>37.795392</td>\n",
       "      <td>-122.394203</td>\n",
       "      <td>3498</td>\n",
       "      <td>Customer</td>\n",
       "      <td>1986.0</td>\n",
       "      <td>Female</td>\n",
       "      <td>No</td>\n",
       "    </tr>\n",
       "    <tr>\n",
       "      <th>3</th>\n",
       "      <td>18558</td>\n",
       "      <td>2018-02-28 18:20:53.6210</td>\n",
       "      <td>2018-02-28 23:30:12.4500</td>\n",
       "      <td>93.0</td>\n",
       "      <td>4th St at Mission Bay Blvd S</td>\n",
       "      <td>37.770407</td>\n",
       "      <td>-122.391198</td>\n",
       "      <td>15.0</td>\n",
       "      <td>San Francisco Ferry Building (Harry Bridges Pl...</td>\n",
       "      <td>37.795392</td>\n",
       "      <td>-122.394203</td>\n",
       "      <td>3129</td>\n",
       "      <td>Customer</td>\n",
       "      <td>1981.0</td>\n",
       "      <td>Male</td>\n",
       "      <td>No</td>\n",
       "    </tr>\n",
       "    <tr>\n",
       "      <th>4</th>\n",
       "      <td>885</td>\n",
       "      <td>2018-02-28 23:15:12.8580</td>\n",
       "      <td>2018-02-28 23:29:58.6080</td>\n",
       "      <td>308.0</td>\n",
       "      <td>San Pedro Square</td>\n",
       "      <td>37.336802</td>\n",
       "      <td>-121.894090</td>\n",
       "      <td>297.0</td>\n",
       "      <td>Locust St at Grant St</td>\n",
       "      <td>37.322980</td>\n",
       "      <td>-121.887931</td>\n",
       "      <td>1839</td>\n",
       "      <td>Subscriber</td>\n",
       "      <td>1976.0</td>\n",
       "      <td>Female</td>\n",
       "      <td>Yes</td>\n",
       "    </tr>\n",
       "  </tbody>\n",
       "</table>\n",
       "</div>"
      ],
      "text/plain": [
       "   duration_sec                start_time                  end_time  \\\n",
       "0           598  2018-02-28 23:59:47.0970  2018-03-01 00:09:45.1870   \n",
       "1           943  2018-02-28 23:21:16.4950  2018-02-28 23:36:59.9740   \n",
       "2         18587  2018-02-28 18:20:55.1900  2018-02-28 23:30:42.9250   \n",
       "3         18558  2018-02-28 18:20:53.6210  2018-02-28 23:30:12.4500   \n",
       "4           885  2018-02-28 23:15:12.8580  2018-02-28 23:29:58.6080   \n",
       "\n",
       "   start_station_id                                 start_station_name  \\\n",
       "0             284.0  Yerba Buena Center for the Arts (Howard St at ...   \n",
       "1               6.0                      The Embarcadero at Sansome St   \n",
       "2              93.0                       4th St at Mission Bay Blvd S   \n",
       "3              93.0                       4th St at Mission Bay Blvd S   \n",
       "4             308.0                                   San Pedro Square   \n",
       "\n",
       "   start_station_latitude  start_station_longitude  end_station_id  \\\n",
       "0               37.784872              -122.400876           114.0   \n",
       "1               37.804770              -122.403234           324.0   \n",
       "2               37.770407              -122.391198            15.0   \n",
       "3               37.770407              -122.391198            15.0   \n",
       "4               37.336802              -121.894090           297.0   \n",
       "\n",
       "                                    end_station_name  end_station_latitude  \\\n",
       "0                         Rhode Island St at 17th St             37.764478   \n",
       "1                Union Square (Powell St at Post St)             37.788300   \n",
       "2  San Francisco Ferry Building (Harry Bridges Pl...             37.795392   \n",
       "3  San Francisco Ferry Building (Harry Bridges Pl...             37.795392   \n",
       "4                              Locust St at Grant St             37.322980   \n",
       "\n",
       "   end_station_longitude  bike_id   user_type  member_birth_year  \\\n",
       "0            -122.402570     1035  Subscriber             1988.0   \n",
       "1            -122.408531     1673    Customer             1987.0   \n",
       "2            -122.394203     3498    Customer             1986.0   \n",
       "3            -122.394203     3129    Customer             1981.0   \n",
       "4            -121.887931     1839  Subscriber             1976.0   \n",
       "\n",
       "  member_gender bike_share_for_all_trip  \n",
       "0          Male                      No  \n",
       "1          Male                      No  \n",
       "2        Female                      No  \n",
       "3          Male                      No  \n",
       "4        Female                     Yes  "
      ]
     },
     "execution_count": 66,
     "metadata": {},
     "output_type": "execute_result"
    }
   ],
   "source": [
    "# Check first 5 records\n",
    "bike18.head()"
   ]
  },
  {
   "cell_type": "code",
   "execution_count": 65,
   "metadata": {},
   "outputs": [
    {
     "data": {
      "text/html": [
       "<div>\n",
       "<style scoped>\n",
       "    .dataframe tbody tr th:only-of-type {\n",
       "        vertical-align: middle;\n",
       "    }\n",
       "\n",
       "    .dataframe tbody tr th {\n",
       "        vertical-align: top;\n",
       "    }\n",
       "\n",
       "    .dataframe thead th {\n",
       "        text-align: right;\n",
       "    }\n",
       "</style>\n",
       "<table border=\"1\" class=\"dataframe\">\n",
       "  <thead>\n",
       "    <tr style=\"text-align: right;\">\n",
       "      <th></th>\n",
       "      <th>duration_sec</th>\n",
       "      <th>start_time</th>\n",
       "      <th>end_time</th>\n",
       "      <th>start_station_id</th>\n",
       "      <th>start_station_name</th>\n",
       "      <th>start_station_latitude</th>\n",
       "      <th>start_station_longitude</th>\n",
       "      <th>end_station_id</th>\n",
       "      <th>end_station_name</th>\n",
       "      <th>end_station_latitude</th>\n",
       "      <th>end_station_longitude</th>\n",
       "      <th>bike_id</th>\n",
       "      <th>user_type</th>\n",
       "      <th>member_birth_year</th>\n",
       "      <th>member_gender</th>\n",
       "      <th>bike_share_for_all_trip</th>\n",
       "    </tr>\n",
       "  </thead>\n",
       "  <tbody>\n",
       "    <tr>\n",
       "      <th>673313</th>\n",
       "      <td>341</td>\n",
       "      <td>2018-05-23 08:03:48.5490</td>\n",
       "      <td>2018-05-23 08:09:30.1160</td>\n",
       "      <td>196.0</td>\n",
       "      <td>Grand Ave at Perkins St</td>\n",
       "      <td>37.808894</td>\n",
       "      <td>-122.256460</td>\n",
       "      <td>182.0</td>\n",
       "      <td>19th Street BART Station</td>\n",
       "      <td>37.809013</td>\n",
       "      <td>-122.268247</td>\n",
       "      <td>2074</td>\n",
       "      <td>Subscriber</td>\n",
       "      <td>1984.0</td>\n",
       "      <td>Male</td>\n",
       "      <td>No</td>\n",
       "    </tr>\n",
       "    <tr>\n",
       "      <th>1291764</th>\n",
       "      <td>805</td>\n",
       "      <td>2018-08-21 18:04:27.9940</td>\n",
       "      <td>2018-08-21 18:17:53.3180</td>\n",
       "      <td>88.0</td>\n",
       "      <td>11th St at Bryant St</td>\n",
       "      <td>37.770030</td>\n",
       "      <td>-122.411726</td>\n",
       "      <td>34.0</td>\n",
       "      <td>Father Alfred E Boeddeker Park</td>\n",
       "      <td>37.783988</td>\n",
       "      <td>-122.412408</td>\n",
       "      <td>2429</td>\n",
       "      <td>Subscriber</td>\n",
       "      <td>1993.0</td>\n",
       "      <td>Female</td>\n",
       "      <td>No</td>\n",
       "    </tr>\n",
       "    <tr>\n",
       "      <th>1411423</th>\n",
       "      <td>215</td>\n",
       "      <td>2018-08-02 08:28:46.0790</td>\n",
       "      <td>2018-08-02 08:32:21.8740</td>\n",
       "      <td>212.0</td>\n",
       "      <td>Mosswood Park</td>\n",
       "      <td>37.824931</td>\n",
       "      <td>-122.260479</td>\n",
       "      <td>176.0</td>\n",
       "      <td>MacArthur BART Station</td>\n",
       "      <td>37.828410</td>\n",
       "      <td>-122.266315</td>\n",
       "      <td>869</td>\n",
       "      <td>Subscriber</td>\n",
       "      <td>1990.0</td>\n",
       "      <td>Female</td>\n",
       "      <td>No</td>\n",
       "    </tr>\n",
       "    <tr>\n",
       "      <th>1664492</th>\n",
       "      <td>768</td>\n",
       "      <td>2018-03-21 12:19:21.0060</td>\n",
       "      <td>2018-03-21 12:32:09.3420</td>\n",
       "      <td>45.0</td>\n",
       "      <td>5th St at Howard St</td>\n",
       "      <td>37.781752</td>\n",
       "      <td>-122.405127</td>\n",
       "      <td>112.0</td>\n",
       "      <td>Harrison St at 17th St</td>\n",
       "      <td>37.763847</td>\n",
       "      <td>-122.413004</td>\n",
       "      <td>2754</td>\n",
       "      <td>Subscriber</td>\n",
       "      <td>1965.0</td>\n",
       "      <td>Male</td>\n",
       "      <td>No</td>\n",
       "    </tr>\n",
       "    <tr>\n",
       "      <th>1584441</th>\n",
       "      <td>397</td>\n",
       "      <td>2018-10-05 19:56:20.8400</td>\n",
       "      <td>2018-10-05 20:02:58.2380</td>\n",
       "      <td>123.0</td>\n",
       "      <td>Folsom St at 19th St</td>\n",
       "      <td>37.760594</td>\n",
       "      <td>-122.414817</td>\n",
       "      <td>144.0</td>\n",
       "      <td>Precita Park</td>\n",
       "      <td>37.747300</td>\n",
       "      <td>-122.411403</td>\n",
       "      <td>1313</td>\n",
       "      <td>Subscriber</td>\n",
       "      <td>1979.0</td>\n",
       "      <td>Male</td>\n",
       "      <td>No</td>\n",
       "    </tr>\n",
       "    <tr>\n",
       "      <th>833507</th>\n",
       "      <td>983</td>\n",
       "      <td>2018-12-20 18:55:38.0800</td>\n",
       "      <td>2018-12-20 19:12:01.2320</td>\n",
       "      <td>6.0</td>\n",
       "      <td>The Embarcadero at Sansome St</td>\n",
       "      <td>37.804770</td>\n",
       "      <td>-122.403234</td>\n",
       "      <td>56.0</td>\n",
       "      <td>Koshland Park</td>\n",
       "      <td>37.773414</td>\n",
       "      <td>-122.427317</td>\n",
       "      <td>4877</td>\n",
       "      <td>Subscriber</td>\n",
       "      <td>1987.0</td>\n",
       "      <td>Male</td>\n",
       "      <td>No</td>\n",
       "    </tr>\n",
       "    <tr>\n",
       "      <th>716130</th>\n",
       "      <td>1097</td>\n",
       "      <td>2018-05-15 17:59:09.6980</td>\n",
       "      <td>2018-05-15 18:17:27.6380</td>\n",
       "      <td>7.0</td>\n",
       "      <td>Frank H Ogawa Plaza</td>\n",
       "      <td>37.804562</td>\n",
       "      <td>-122.271738</td>\n",
       "      <td>194.0</td>\n",
       "      <td>Lakeshore Ave at Trestle Glen Rd</td>\n",
       "      <td>37.811081</td>\n",
       "      <td>-122.243268</td>\n",
       "      <td>1389</td>\n",
       "      <td>Customer</td>\n",
       "      <td>NaN</td>\n",
       "      <td>NaN</td>\n",
       "      <td>No</td>\n",
       "    </tr>\n",
       "    <tr>\n",
       "      <th>1305874</th>\n",
       "      <td>9275</td>\n",
       "      <td>2018-08-19 12:02:27.6840</td>\n",
       "      <td>2018-08-19 14:37:03.6480</td>\n",
       "      <td>4.0</td>\n",
       "      <td>Cyril Magnin St at Ellis St</td>\n",
       "      <td>37.785881</td>\n",
       "      <td>-122.408915</td>\n",
       "      <td>4.0</td>\n",
       "      <td>Cyril Magnin St at Ellis St</td>\n",
       "      <td>37.785881</td>\n",
       "      <td>-122.408915</td>\n",
       "      <td>2614</td>\n",
       "      <td>Customer</td>\n",
       "      <td>1969.0</td>\n",
       "      <td>Male</td>\n",
       "      <td>No</td>\n",
       "    </tr>\n",
       "    <tr>\n",
       "      <th>859195</th>\n",
       "      <td>302</td>\n",
       "      <td>2018-12-17 06:41:54.2900</td>\n",
       "      <td>2018-12-17 06:46:56.7510</td>\n",
       "      <td>210.0</td>\n",
       "      <td>45th St at Manila</td>\n",
       "      <td>37.833294</td>\n",
       "      <td>-122.256224</td>\n",
       "      <td>176.0</td>\n",
       "      <td>MacArthur BART Station</td>\n",
       "      <td>37.828410</td>\n",
       "      <td>-122.266315</td>\n",
       "      <td>1889</td>\n",
       "      <td>Subscriber</td>\n",
       "      <td>1964.0</td>\n",
       "      <td>Male</td>\n",
       "      <td>No</td>\n",
       "    </tr>\n",
       "    <tr>\n",
       "      <th>1553396</th>\n",
       "      <td>753</td>\n",
       "      <td>2018-10-10 20:51:43.9140</td>\n",
       "      <td>2018-10-10 21:04:17.7180</td>\n",
       "      <td>310.0</td>\n",
       "      <td>San Fernando St at 4th St</td>\n",
       "      <td>37.335885</td>\n",
       "      <td>-121.885660</td>\n",
       "      <td>276.0</td>\n",
       "      <td>Julian St at The Alameda</td>\n",
       "      <td>37.332233</td>\n",
       "      <td>-121.912516</td>\n",
       "      <td>1625</td>\n",
       "      <td>Subscriber</td>\n",
       "      <td>1994.0</td>\n",
       "      <td>Male</td>\n",
       "      <td>Yes</td>\n",
       "    </tr>\n",
       "  </tbody>\n",
       "</table>\n",
       "</div>"
      ],
      "text/plain": [
       "         duration_sec                start_time                  end_time  \\\n",
       "673313            341  2018-05-23 08:03:48.5490  2018-05-23 08:09:30.1160   \n",
       "1291764           805  2018-08-21 18:04:27.9940  2018-08-21 18:17:53.3180   \n",
       "1411423           215  2018-08-02 08:28:46.0790  2018-08-02 08:32:21.8740   \n",
       "1664492           768  2018-03-21 12:19:21.0060  2018-03-21 12:32:09.3420   \n",
       "1584441           397  2018-10-05 19:56:20.8400  2018-10-05 20:02:58.2380   \n",
       "833507            983  2018-12-20 18:55:38.0800  2018-12-20 19:12:01.2320   \n",
       "716130           1097  2018-05-15 17:59:09.6980  2018-05-15 18:17:27.6380   \n",
       "1305874          9275  2018-08-19 12:02:27.6840  2018-08-19 14:37:03.6480   \n",
       "859195            302  2018-12-17 06:41:54.2900  2018-12-17 06:46:56.7510   \n",
       "1553396           753  2018-10-10 20:51:43.9140  2018-10-10 21:04:17.7180   \n",
       "\n",
       "         start_station_id             start_station_name  \\\n",
       "673313              196.0        Grand Ave at Perkins St   \n",
       "1291764              88.0           11th St at Bryant St   \n",
       "1411423             212.0                  Mosswood Park   \n",
       "1664492              45.0            5th St at Howard St   \n",
       "1584441             123.0           Folsom St at 19th St   \n",
       "833507                6.0  The Embarcadero at Sansome St   \n",
       "716130                7.0            Frank H Ogawa Plaza   \n",
       "1305874               4.0    Cyril Magnin St at Ellis St   \n",
       "859195              210.0              45th St at Manila   \n",
       "1553396             310.0      San Fernando St at 4th St   \n",
       "\n",
       "         start_station_latitude  start_station_longitude  end_station_id  \\\n",
       "673313                37.808894              -122.256460           182.0   \n",
       "1291764               37.770030              -122.411726            34.0   \n",
       "1411423               37.824931              -122.260479           176.0   \n",
       "1664492               37.781752              -122.405127           112.0   \n",
       "1584441               37.760594              -122.414817           144.0   \n",
       "833507                37.804770              -122.403234            56.0   \n",
       "716130                37.804562              -122.271738           194.0   \n",
       "1305874               37.785881              -122.408915             4.0   \n",
       "859195                37.833294              -122.256224           176.0   \n",
       "1553396               37.335885              -121.885660           276.0   \n",
       "\n",
       "                         end_station_name  end_station_latitude  \\\n",
       "673313           19th Street BART Station             37.809013   \n",
       "1291764    Father Alfred E Boeddeker Park             37.783988   \n",
       "1411423            MacArthur BART Station             37.828410   \n",
       "1664492            Harrison St at 17th St             37.763847   \n",
       "1584441                      Precita Park             37.747300   \n",
       "833507                      Koshland Park             37.773414   \n",
       "716130   Lakeshore Ave at Trestle Glen Rd             37.811081   \n",
       "1305874       Cyril Magnin St at Ellis St             37.785881   \n",
       "859195             MacArthur BART Station             37.828410   \n",
       "1553396          Julian St at The Alameda             37.332233   \n",
       "\n",
       "         end_station_longitude  bike_id   user_type  member_birth_year  \\\n",
       "673313             -122.268247     2074  Subscriber             1984.0   \n",
       "1291764            -122.412408     2429  Subscriber             1993.0   \n",
       "1411423            -122.266315      869  Subscriber             1990.0   \n",
       "1664492            -122.413004     2754  Subscriber             1965.0   \n",
       "1584441            -122.411403     1313  Subscriber             1979.0   \n",
       "833507             -122.427317     4877  Subscriber             1987.0   \n",
       "716130             -122.243268     1389    Customer                NaN   \n",
       "1305874            -122.408915     2614    Customer             1969.0   \n",
       "859195             -122.266315     1889  Subscriber             1964.0   \n",
       "1553396            -121.912516     1625  Subscriber             1994.0   \n",
       "\n",
       "        member_gender bike_share_for_all_trip  \n",
       "673313           Male                      No  \n",
       "1291764        Female                      No  \n",
       "1411423        Female                      No  \n",
       "1664492          Male                      No  \n",
       "1584441          Male                      No  \n",
       "833507           Male                      No  \n",
       "716130            NaN                      No  \n",
       "1305874          Male                      No  \n",
       "859195           Male                      No  \n",
       "1553396          Male                     Yes  "
      ]
     },
     "execution_count": 65,
     "metadata": {},
     "output_type": "execute_result"
    }
   ],
   "source": [
    "# Check 10 random records, to get an idea of the dataset\n",
    "bike18.sample(10)"
   ]
  },
  {
   "cell_type": "code",
   "execution_count": 67,
   "metadata": {},
   "outputs": [
    {
     "name": "stdout",
     "output_type": "stream",
     "text": [
      "<class 'pandas.core.frame.DataFrame'>\n",
      "RangeIndex: 1863721 entries, 0 to 1863720\n",
      "Data columns (total 16 columns):\n",
      "duration_sec               1863721 non-null int64\n",
      "start_time                 1863721 non-null object\n",
      "end_time                   1863721 non-null object\n",
      "start_station_id           1851950 non-null float64\n",
      "start_station_name         1851950 non-null object\n",
      "start_station_latitude     1863721 non-null float64\n",
      "start_station_longitude    1863721 non-null float64\n",
      "end_station_id             1851950 non-null float64\n",
      "end_station_name           1851950 non-null object\n",
      "end_station_latitude       1863721 non-null float64\n",
      "end_station_longitude      1863721 non-null float64\n",
      "bike_id                    1863721 non-null int64\n",
      "user_type                  1863721 non-null object\n",
      "member_birth_year          1753003 non-null float64\n",
      "member_gender              1753354 non-null object\n",
      "bike_share_for_all_trip    1863721 non-null object\n",
      "dtypes: float64(7), int64(2), object(7)\n",
      "memory usage: 227.5+ MB\n"
     ]
    }
   ],
   "source": [
    "# Basic Info\n",
    "bike18.info(null_counts=True)"
   ]
  },
  {
   "cell_type": "code",
   "execution_count": 22,
   "metadata": {},
   "outputs": [
    {
     "data": {
      "text/plain": [
       "0"
      ]
     },
     "execution_count": 22,
     "metadata": {},
     "output_type": "execute_result"
    }
   ],
   "source": [
    "# Checking for duplicates, None Exist.\n",
    "bike18.duplicated().sum()"
   ]
  },
  {
   "cell_type": "code",
   "execution_count": 23,
   "metadata": {
    "scrolled": true
   },
   "outputs": [
    {
     "data": {
      "text/html": [
       "<div>\n",
       "<style scoped>\n",
       "    .dataframe tbody tr th:only-of-type {\n",
       "        vertical-align: middle;\n",
       "    }\n",
       "\n",
       "    .dataframe tbody tr th {\n",
       "        vertical-align: top;\n",
       "    }\n",
       "\n",
       "    .dataframe thead th {\n",
       "        text-align: right;\n",
       "    }\n",
       "</style>\n",
       "<table border=\"1\" class=\"dataframe\">\n",
       "  <thead>\n",
       "    <tr style=\"text-align: right;\">\n",
       "      <th></th>\n",
       "      <th>duration_sec</th>\n",
       "      <th>start_station_id</th>\n",
       "      <th>start_station_latitude</th>\n",
       "      <th>start_station_longitude</th>\n",
       "      <th>end_station_id</th>\n",
       "      <th>end_station_latitude</th>\n",
       "      <th>end_station_longitude</th>\n",
       "      <th>bike_id</th>\n",
       "      <th>member_birth_year</th>\n",
       "    </tr>\n",
       "  </thead>\n",
       "  <tbody>\n",
       "    <tr>\n",
       "      <th>count</th>\n",
       "      <td>1.863721e+06</td>\n",
       "      <td>1.851950e+06</td>\n",
       "      <td>1.863721e+06</td>\n",
       "      <td>1.863721e+06</td>\n",
       "      <td>1.851950e+06</td>\n",
       "      <td>1.863721e+06</td>\n",
       "      <td>1.863721e+06</td>\n",
       "      <td>1.863721e+06</td>\n",
       "      <td>1.753003e+06</td>\n",
       "    </tr>\n",
       "    <tr>\n",
       "      <th>mean</th>\n",
       "      <td>8.573026e+02</td>\n",
       "      <td>1.196744e+02</td>\n",
       "      <td>3.776678e+01</td>\n",
       "      <td>-1.223492e+02</td>\n",
       "      <td>1.181730e+02</td>\n",
       "      <td>3.776690e+01</td>\n",
       "      <td>-1.223487e+02</td>\n",
       "      <td>2.296851e+03</td>\n",
       "      <td>1.983088e+03</td>\n",
       "    </tr>\n",
       "    <tr>\n",
       "      <th>std</th>\n",
       "      <td>2.370379e+03</td>\n",
       "      <td>1.003976e+02</td>\n",
       "      <td>1.057689e-01</td>\n",
       "      <td>1.654634e-01</td>\n",
       "      <td>1.004403e+02</td>\n",
       "      <td>1.056483e-01</td>\n",
       "      <td>1.650597e-01</td>\n",
       "      <td>1.287733e+03</td>\n",
       "      <td>1.044289e+01</td>\n",
       "    </tr>\n",
       "    <tr>\n",
       "      <th>min</th>\n",
       "      <td>6.100000e+01</td>\n",
       "      <td>3.000000e+00</td>\n",
       "      <td>3.726331e+01</td>\n",
       "      <td>-1.224737e+02</td>\n",
       "      <td>3.000000e+00</td>\n",
       "      <td>3.726331e+01</td>\n",
       "      <td>-1.224737e+02</td>\n",
       "      <td>1.100000e+01</td>\n",
       "      <td>1.881000e+03</td>\n",
       "    </tr>\n",
       "    <tr>\n",
       "      <th>25%</th>\n",
       "      <td>3.500000e+02</td>\n",
       "      <td>3.300000e+01</td>\n",
       "      <td>3.777106e+01</td>\n",
       "      <td>-1.224114e+02</td>\n",
       "      <td>3.000000e+01</td>\n",
       "      <td>3.777106e+01</td>\n",
       "      <td>-1.224094e+02</td>\n",
       "      <td>1.225000e+03</td>\n",
       "      <td>1.978000e+03</td>\n",
       "    </tr>\n",
       "    <tr>\n",
       "      <th>50%</th>\n",
       "      <td>5.560000e+02</td>\n",
       "      <td>8.900000e+01</td>\n",
       "      <td>3.778107e+01</td>\n",
       "      <td>-1.223974e+02</td>\n",
       "      <td>8.800000e+01</td>\n",
       "      <td>3.778127e+01</td>\n",
       "      <td>-1.223971e+02</td>\n",
       "      <td>2.338000e+03</td>\n",
       "      <td>1.985000e+03</td>\n",
       "    </tr>\n",
       "    <tr>\n",
       "      <th>75%</th>\n",
       "      <td>8.720000e+02</td>\n",
       "      <td>1.860000e+02</td>\n",
       "      <td>3.779625e+01</td>\n",
       "      <td>-1.222865e+02</td>\n",
       "      <td>1.830000e+02</td>\n",
       "      <td>3.779728e+01</td>\n",
       "      <td>-1.222894e+02</td>\n",
       "      <td>3.333000e+03</td>\n",
       "      <td>1.991000e+03</td>\n",
       "    </tr>\n",
       "    <tr>\n",
       "      <th>max</th>\n",
       "      <td>8.636600e+04</td>\n",
       "      <td>3.810000e+02</td>\n",
       "      <td>4.551000e+01</td>\n",
       "      <td>-7.357000e+01</td>\n",
       "      <td>3.810000e+02</td>\n",
       "      <td>4.551000e+01</td>\n",
       "      <td>-7.357000e+01</td>\n",
       "      <td>6.234000e+03</td>\n",
       "      <td>2.000000e+03</td>\n",
       "    </tr>\n",
       "  </tbody>\n",
       "</table>\n",
       "</div>"
      ],
      "text/plain": [
       "       duration_sec  start_station_id  start_station_latitude  \\\n",
       "count  1.863721e+06      1.851950e+06            1.863721e+06   \n",
       "mean   8.573026e+02      1.196744e+02            3.776678e+01   \n",
       "std    2.370379e+03      1.003976e+02            1.057689e-01   \n",
       "min    6.100000e+01      3.000000e+00            3.726331e+01   \n",
       "25%    3.500000e+02      3.300000e+01            3.777106e+01   \n",
       "50%    5.560000e+02      8.900000e+01            3.778107e+01   \n",
       "75%    8.720000e+02      1.860000e+02            3.779625e+01   \n",
       "max    8.636600e+04      3.810000e+02            4.551000e+01   \n",
       "\n",
       "       start_station_longitude  end_station_id  end_station_latitude  \\\n",
       "count             1.863721e+06    1.851950e+06          1.863721e+06   \n",
       "mean             -1.223492e+02    1.181730e+02          3.776690e+01   \n",
       "std               1.654634e-01    1.004403e+02          1.056483e-01   \n",
       "min              -1.224737e+02    3.000000e+00          3.726331e+01   \n",
       "25%              -1.224114e+02    3.000000e+01          3.777106e+01   \n",
       "50%              -1.223974e+02    8.800000e+01          3.778127e+01   \n",
       "75%              -1.222865e+02    1.830000e+02          3.779728e+01   \n",
       "max              -7.357000e+01    3.810000e+02          4.551000e+01   \n",
       "\n",
       "       end_station_longitude       bike_id  member_birth_year  \n",
       "count           1.863721e+06  1.863721e+06       1.753003e+06  \n",
       "mean           -1.223487e+02  2.296851e+03       1.983088e+03  \n",
       "std             1.650597e-01  1.287733e+03       1.044289e+01  \n",
       "min            -1.224737e+02  1.100000e+01       1.881000e+03  \n",
       "25%            -1.224094e+02  1.225000e+03       1.978000e+03  \n",
       "50%            -1.223971e+02  2.338000e+03       1.985000e+03  \n",
       "75%            -1.222894e+02  3.333000e+03       1.991000e+03  \n",
       "max            -7.357000e+01  6.234000e+03       2.000000e+03  "
      ]
     },
     "execution_count": 23,
     "metadata": {},
     "output_type": "execute_result"
    }
   ],
   "source": [
    "# View descriptive statistics of the dataframe\n",
    "bike18.describe()"
   ]
  },
  {
   "cell_type": "markdown",
   "metadata": {},
   "source": [
    "<a id='clean'></a>\n",
    "## Part III - Cleaning Data"
   ]
  },
  {
   "cell_type": "code",
   "execution_count": 24,
   "metadata": {},
   "outputs": [],
   "source": [
    "# Create copies of original DataFrames\n",
    "bike18_clean = bike18.copy()"
   ]
  },
  {
   "cell_type": "markdown",
   "metadata": {},
   "source": [
    "**Define**\n",
    " * start time and end time are objects not a timestamps\n",
    " * user type, gender and bike_share_for_all_trip can be set to category\n",
    " * bike id, start_station_id, end_station_id can be set to object"
   ]
  },
  {
   "cell_type": "markdown",
   "metadata": {},
   "source": [
    "**Code**"
   ]
  },
  {
   "cell_type": "code",
   "execution_count": 25,
   "metadata": {},
   "outputs": [],
   "source": [
    "# set dates to timestamps\n",
    "bike18_clean.start_time = pd.to_datetime(bike18_clean.start_time)\n",
    "bike18_clean.end_time = pd.to_datetime(bike18_clean.end_time)"
   ]
  },
  {
   "cell_type": "code",
   "execution_count": 26,
   "metadata": {},
   "outputs": [],
   "source": [
    "# set user type, gender and bike_share_for_all_trip to category\n",
    "bike18_clean.user_type = bike18_clean.user_type.astype('category')\n",
    "bike18_clean.member_gender = bike18_clean.member_gender.astype('category')\n",
    "bike18_clean.bike_share_for_all_trip = bike18_clean.bike_share_for_all_trip.astype('category')"
   ]
  },
  {
   "cell_type": "code",
   "execution_count": 27,
   "metadata": {},
   "outputs": [],
   "source": [
    "# set bike id, start_station_id, end_station_id to object\n",
    "bike18_clean.bike_id = bike18_clean.bike_id.astype(str)\n",
    "bike18_clean.start_station_id = bike18_clean.bike_id.astype(str)\n",
    "bike18_clean.end_station_id = bike18_clean.bike_id.astype(str)"
   ]
  },
  {
   "cell_type": "markdown",
   "metadata": {},
   "source": [
    "**Test**"
   ]
  },
  {
   "cell_type": "code",
   "execution_count": 63,
   "metadata": {},
   "outputs": [
    {
     "name": "stdout",
     "output_type": "stream",
     "text": [
      "<class 'pandas.core.frame.DataFrame'>\n",
      "Int64Index: 1708250 entries, 0 to 1863720\n",
      "Data columns (total 22 columns):\n",
      "duration_sec               1708250 non-null int64\n",
      "start_time                 1708250 non-null datetime64[ns]\n",
      "end_time                   1708250 non-null datetime64[ns]\n",
      "start_station_id           1708250 non-null object\n",
      "start_station_name         1696859 non-null object\n",
      "start_station_latitude     1708250 non-null float64\n",
      "start_station_longitude    1708250 non-null float64\n",
      "end_station_id             1708250 non-null object\n",
      "end_station_name           1696859 non-null object\n",
      "end_station_latitude       1708250 non-null float64\n",
      "end_station_longitude      1708250 non-null float64\n",
      "bike_id                    1708250 non-null object\n",
      "user_type                  1708250 non-null category\n",
      "member_birth_year          1708250 non-null int64\n",
      "member_gender              1708250 non-null category\n",
      "bike_share_for_all_trip    1708250 non-null category\n",
      "member_age                 1708250 non-null int64\n",
      "start_time_month_name      1708250 non-null object\n",
      "start_time_month           1708250 non-null int64\n",
      "start_time_weekday         1708250 non-null category\n",
      "start_time_day             1708250 non-null int64\n",
      "start_time_hour            1708250 non-null int64\n",
      "dtypes: category(4), datetime64[ns](2), float64(4), int64(6), object(6)\n",
      "memory usage: 254.1+ MB\n"
     ]
    }
   ],
   "source": [
    "bike18_clean.info(verbose=True, null_counts=True)"
   ]
  },
  {
   "cell_type": "markdown",
   "metadata": {},
   "source": [
    "**Define**\n",
    "* Age of customers (2019- member_birth_year)"
   ]
  },
  {
   "cell_type": "markdown",
   "metadata": {},
   "source": [
    "**Code**"
   ]
  },
  {
   "cell_type": "code",
   "execution_count": 29,
   "metadata": {},
   "outputs": [],
   "source": [
    "# substract the birth year from the current year\n",
    "bike18_clean['member_age'] = 2019-bike18_clean['member_birth_year']"
   ]
  },
  {
   "cell_type": "markdown",
   "metadata": {},
   "source": [
    "**Test**"
   ]
  },
  {
   "cell_type": "code",
   "execution_count": 30,
   "metadata": {},
   "outputs": [
    {
     "data": {
      "text/html": [
       "<div>\n",
       "<style scoped>\n",
       "    .dataframe tbody tr th:only-of-type {\n",
       "        vertical-align: middle;\n",
       "    }\n",
       "\n",
       "    .dataframe tbody tr th {\n",
       "        vertical-align: top;\n",
       "    }\n",
       "\n",
       "    .dataframe thead th {\n",
       "        text-align: right;\n",
       "    }\n",
       "</style>\n",
       "<table border=\"1\" class=\"dataframe\">\n",
       "  <thead>\n",
       "    <tr style=\"text-align: right;\">\n",
       "      <th></th>\n",
       "      <th>duration_sec</th>\n",
       "      <th>start_time</th>\n",
       "      <th>end_time</th>\n",
       "      <th>start_station_id</th>\n",
       "      <th>start_station_name</th>\n",
       "      <th>start_station_latitude</th>\n",
       "      <th>start_station_longitude</th>\n",
       "      <th>end_station_id</th>\n",
       "      <th>end_station_name</th>\n",
       "      <th>end_station_latitude</th>\n",
       "      <th>end_station_longitude</th>\n",
       "      <th>bike_id</th>\n",
       "      <th>user_type</th>\n",
       "      <th>member_birth_year</th>\n",
       "      <th>member_gender</th>\n",
       "      <th>bike_share_for_all_trip</th>\n",
       "      <th>member_age</th>\n",
       "    </tr>\n",
       "  </thead>\n",
       "  <tbody>\n",
       "    <tr>\n",
       "      <th>0</th>\n",
       "      <td>598</td>\n",
       "      <td>2018-02-28 23:59:47.097</td>\n",
       "      <td>2018-03-01 00:09:45.187</td>\n",
       "      <td>1035</td>\n",
       "      <td>Yerba Buena Center for the Arts (Howard St at ...</td>\n",
       "      <td>37.784872</td>\n",
       "      <td>-122.400876</td>\n",
       "      <td>1035</td>\n",
       "      <td>Rhode Island St at 17th St</td>\n",
       "      <td>37.764478</td>\n",
       "      <td>-122.402570</td>\n",
       "      <td>1035</td>\n",
       "      <td>Subscriber</td>\n",
       "      <td>1988.0</td>\n",
       "      <td>Male</td>\n",
       "      <td>No</td>\n",
       "      <td>31.0</td>\n",
       "    </tr>\n",
       "    <tr>\n",
       "      <th>1</th>\n",
       "      <td>943</td>\n",
       "      <td>2018-02-28 23:21:16.495</td>\n",
       "      <td>2018-02-28 23:36:59.974</td>\n",
       "      <td>1673</td>\n",
       "      <td>The Embarcadero at Sansome St</td>\n",
       "      <td>37.804770</td>\n",
       "      <td>-122.403234</td>\n",
       "      <td>1673</td>\n",
       "      <td>Union Square (Powell St at Post St)</td>\n",
       "      <td>37.788300</td>\n",
       "      <td>-122.408531</td>\n",
       "      <td>1673</td>\n",
       "      <td>Customer</td>\n",
       "      <td>1987.0</td>\n",
       "      <td>Male</td>\n",
       "      <td>No</td>\n",
       "      <td>32.0</td>\n",
       "    </tr>\n",
       "    <tr>\n",
       "      <th>2</th>\n",
       "      <td>18587</td>\n",
       "      <td>2018-02-28 18:20:55.190</td>\n",
       "      <td>2018-02-28 23:30:42.925</td>\n",
       "      <td>3498</td>\n",
       "      <td>4th St at Mission Bay Blvd S</td>\n",
       "      <td>37.770407</td>\n",
       "      <td>-122.391198</td>\n",
       "      <td>3498</td>\n",
       "      <td>San Francisco Ferry Building (Harry Bridges Pl...</td>\n",
       "      <td>37.795392</td>\n",
       "      <td>-122.394203</td>\n",
       "      <td>3498</td>\n",
       "      <td>Customer</td>\n",
       "      <td>1986.0</td>\n",
       "      <td>Female</td>\n",
       "      <td>No</td>\n",
       "      <td>33.0</td>\n",
       "    </tr>\n",
       "    <tr>\n",
       "      <th>3</th>\n",
       "      <td>18558</td>\n",
       "      <td>2018-02-28 18:20:53.621</td>\n",
       "      <td>2018-02-28 23:30:12.450</td>\n",
       "      <td>3129</td>\n",
       "      <td>4th St at Mission Bay Blvd S</td>\n",
       "      <td>37.770407</td>\n",
       "      <td>-122.391198</td>\n",
       "      <td>3129</td>\n",
       "      <td>San Francisco Ferry Building (Harry Bridges Pl...</td>\n",
       "      <td>37.795392</td>\n",
       "      <td>-122.394203</td>\n",
       "      <td>3129</td>\n",
       "      <td>Customer</td>\n",
       "      <td>1981.0</td>\n",
       "      <td>Male</td>\n",
       "      <td>No</td>\n",
       "      <td>38.0</td>\n",
       "    </tr>\n",
       "    <tr>\n",
       "      <th>4</th>\n",
       "      <td>885</td>\n",
       "      <td>2018-02-28 23:15:12.858</td>\n",
       "      <td>2018-02-28 23:29:58.608</td>\n",
       "      <td>1839</td>\n",
       "      <td>San Pedro Square</td>\n",
       "      <td>37.336802</td>\n",
       "      <td>-121.894090</td>\n",
       "      <td>1839</td>\n",
       "      <td>Locust St at Grant St</td>\n",
       "      <td>37.322980</td>\n",
       "      <td>-121.887931</td>\n",
       "      <td>1839</td>\n",
       "      <td>Subscriber</td>\n",
       "      <td>1976.0</td>\n",
       "      <td>Female</td>\n",
       "      <td>Yes</td>\n",
       "      <td>43.0</td>\n",
       "    </tr>\n",
       "    <tr>\n",
       "      <th>5</th>\n",
       "      <td>921</td>\n",
       "      <td>2018-02-28 23:14:19.170</td>\n",
       "      <td>2018-02-28 23:29:40.437</td>\n",
       "      <td>2656</td>\n",
       "      <td>San Jose Diridon Station</td>\n",
       "      <td>37.329732</td>\n",
       "      <td>-121.901782</td>\n",
       "      <td>2656</td>\n",
       "      <td>Mission St at 1st St</td>\n",
       "      <td>37.350964</td>\n",
       "      <td>-121.902016</td>\n",
       "      <td>2656</td>\n",
       "      <td>Customer</td>\n",
       "      <td>1997.0</td>\n",
       "      <td>Male</td>\n",
       "      <td>No</td>\n",
       "      <td>22.0</td>\n",
       "    </tr>\n",
       "    <tr>\n",
       "      <th>6</th>\n",
       "      <td>277</td>\n",
       "      <td>2018-02-28 23:21:49.274</td>\n",
       "      <td>2018-02-28 23:26:27.222</td>\n",
       "      <td>1616</td>\n",
       "      <td>San Salvador St at 1st St</td>\n",
       "      <td>37.330165</td>\n",
       "      <td>-121.885831</td>\n",
       "      <td>1616</td>\n",
       "      <td>San Fernando St at 4th St</td>\n",
       "      <td>37.335885</td>\n",
       "      <td>-121.885660</td>\n",
       "      <td>1616</td>\n",
       "      <td>Subscriber</td>\n",
       "      <td>1957.0</td>\n",
       "      <td>Female</td>\n",
       "      <td>No</td>\n",
       "      <td>62.0</td>\n",
       "    </tr>\n",
       "    <tr>\n",
       "      <th>7</th>\n",
       "      <td>285</td>\n",
       "      <td>2018-02-28 23:21:19.631</td>\n",
       "      <td>2018-02-28 23:26:05.405</td>\n",
       "      <td>144</td>\n",
       "      <td>Snow Park</td>\n",
       "      <td>37.807813</td>\n",
       "      <td>-122.264496</td>\n",
       "      <td>144</td>\n",
       "      <td>Grand Ave at Perkins St</td>\n",
       "      <td>37.808894</td>\n",
       "      <td>-122.256460</td>\n",
       "      <td>144</td>\n",
       "      <td>Subscriber</td>\n",
       "      <td>1990.0</td>\n",
       "      <td>Female</td>\n",
       "      <td>No</td>\n",
       "      <td>29.0</td>\n",
       "    </tr>\n",
       "    <tr>\n",
       "      <th>8</th>\n",
       "      <td>363</td>\n",
       "      <td>2018-02-28 23:19:18.606</td>\n",
       "      <td>2018-02-28 23:25:22.274</td>\n",
       "      <td>3351</td>\n",
       "      <td>MacArthur BART Station</td>\n",
       "      <td>37.828410</td>\n",
       "      <td>-122.266315</td>\n",
       "      <td>3351</td>\n",
       "      <td>Genoa St at 55th St</td>\n",
       "      <td>37.839649</td>\n",
       "      <td>-122.271756</td>\n",
       "      <td>3351</td>\n",
       "      <td>Subscriber</td>\n",
       "      <td>1975.0</td>\n",
       "      <td>Male</td>\n",
       "      <td>No</td>\n",
       "      <td>44.0</td>\n",
       "    </tr>\n",
       "    <tr>\n",
       "      <th>9</th>\n",
       "      <td>226</td>\n",
       "      <td>2018-02-28 23:15:20.033</td>\n",
       "      <td>2018-02-28 23:19:06.620</td>\n",
       "      <td>1699</td>\n",
       "      <td>William St at 10th St</td>\n",
       "      <td>37.332794</td>\n",
       "      <td>-121.875926</td>\n",
       "      <td>1699</td>\n",
       "      <td>5th St at San Salvador St</td>\n",
       "      <td>37.332039</td>\n",
       "      <td>-121.881766</td>\n",
       "      <td>1699</td>\n",
       "      <td>Subscriber</td>\n",
       "      <td>1996.0</td>\n",
       "      <td>Male</td>\n",
       "      <td>Yes</td>\n",
       "      <td>23.0</td>\n",
       "    </tr>\n",
       "    <tr>\n",
       "      <th>10</th>\n",
       "      <td>219</td>\n",
       "      <td>2018-02-28 23:15:23.480</td>\n",
       "      <td>2018-02-28 23:19:03.068</td>\n",
       "      <td>908</td>\n",
       "      <td>William St at 10th St</td>\n",
       "      <td>37.332794</td>\n",
       "      <td>-121.875926</td>\n",
       "      <td>908</td>\n",
       "      <td>5th St at San Salvador St</td>\n",
       "      <td>37.332039</td>\n",
       "      <td>-121.881766</td>\n",
       "      <td>908</td>\n",
       "      <td>Subscriber</td>\n",
       "      <td>1995.0</td>\n",
       "      <td>Male</td>\n",
       "      <td>Yes</td>\n",
       "      <td>24.0</td>\n",
       "    </tr>\n",
       "    <tr>\n",
       "      <th>11</th>\n",
       "      <td>261</td>\n",
       "      <td>2018-02-28 23:14:09.368</td>\n",
       "      <td>2018-02-28 23:18:31.281</td>\n",
       "      <td>2807</td>\n",
       "      <td>SAP Center</td>\n",
       "      <td>37.332692</td>\n",
       "      <td>-121.900084</td>\n",
       "      <td>2807</td>\n",
       "      <td>Morrison Ave at Julian St</td>\n",
       "      <td>37.333658</td>\n",
       "      <td>-121.908586</td>\n",
       "      <td>2807</td>\n",
       "      <td>Subscriber</td>\n",
       "      <td>1972.0</td>\n",
       "      <td>Male</td>\n",
       "      <td>No</td>\n",
       "      <td>47.0</td>\n",
       "    </tr>\n",
       "    <tr>\n",
       "      <th>12</th>\n",
       "      <td>530</td>\n",
       "      <td>2018-02-28 23:09:26.795</td>\n",
       "      <td>2018-02-28 23:18:16.868</td>\n",
       "      <td>48</td>\n",
       "      <td>Almaden Blvd at Balbach St</td>\n",
       "      <td>37.326730</td>\n",
       "      <td>-121.889273</td>\n",
       "      <td>48</td>\n",
       "      <td>San Jose Diridon Station</td>\n",
       "      <td>37.329732</td>\n",
       "      <td>-121.901782</td>\n",
       "      <td>48</td>\n",
       "      <td>Subscriber</td>\n",
       "      <td>1985.0</td>\n",
       "      <td>Male</td>\n",
       "      <td>No</td>\n",
       "      <td>34.0</td>\n",
       "    </tr>\n",
       "    <tr>\n",
       "      <th>13</th>\n",
       "      <td>762</td>\n",
       "      <td>2018-02-28 23:03:08.627</td>\n",
       "      <td>2018-02-28 23:15:51.269</td>\n",
       "      <td>3276</td>\n",
       "      <td>Bancroft Way at Telegraph Ave</td>\n",
       "      <td>37.868813</td>\n",
       "      <td>-122.258764</td>\n",
       "      <td>3276</td>\n",
       "      <td>Dover St at 57th St</td>\n",
       "      <td>37.842630</td>\n",
       "      <td>-122.267738</td>\n",
       "      <td>3276</td>\n",
       "      <td>Subscriber</td>\n",
       "      <td>1988.0</td>\n",
       "      <td>Female</td>\n",
       "      <td>No</td>\n",
       "      <td>31.0</td>\n",
       "    </tr>\n",
       "    <tr>\n",
       "      <th>14</th>\n",
       "      <td>637</td>\n",
       "      <td>2018-02-28 23:05:08.754</td>\n",
       "      <td>2018-02-28 23:15:45.778</td>\n",
       "      <td>1450</td>\n",
       "      <td>W St John St at Guadalupe River Trail</td>\n",
       "      <td>37.335388</td>\n",
       "      <td>-121.897920</td>\n",
       "      <td>1450</td>\n",
       "      <td>5th St at San Salvador St</td>\n",
       "      <td>37.332039</td>\n",
       "      <td>-121.881766</td>\n",
       "      <td>1450</td>\n",
       "      <td>Subscriber</td>\n",
       "      <td>1998.0</td>\n",
       "      <td>Male</td>\n",
       "      <td>Yes</td>\n",
       "      <td>21.0</td>\n",
       "    </tr>\n",
       "    <tr>\n",
       "      <th>15</th>\n",
       "      <td>789</td>\n",
       "      <td>2018-02-28 22:59:54.088</td>\n",
       "      <td>2018-02-28 23:13:03.377</td>\n",
       "      <td>1859</td>\n",
       "      <td>SAP Center</td>\n",
       "      <td>37.332692</td>\n",
       "      <td>-121.900084</td>\n",
       "      <td>1859</td>\n",
       "      <td>5th St at San Salvador St</td>\n",
       "      <td>37.332039</td>\n",
       "      <td>-121.881766</td>\n",
       "      <td>1859</td>\n",
       "      <td>Subscriber</td>\n",
       "      <td>1997.0</td>\n",
       "      <td>Female</td>\n",
       "      <td>No</td>\n",
       "      <td>22.0</td>\n",
       "    </tr>\n",
       "    <tr>\n",
       "      <th>16</th>\n",
       "      <td>144</td>\n",
       "      <td>2018-02-28 23:09:44.738</td>\n",
       "      <td>2018-02-28 23:12:08.821</td>\n",
       "      <td>413</td>\n",
       "      <td>San Fernando St at 4th St</td>\n",
       "      <td>37.335885</td>\n",
       "      <td>-121.885660</td>\n",
       "      <td>413</td>\n",
       "      <td>9th St at San Fernando</td>\n",
       "      <td>37.338395</td>\n",
       "      <td>-121.880797</td>\n",
       "      <td>413</td>\n",
       "      <td>Subscriber</td>\n",
       "      <td>1990.0</td>\n",
       "      <td>Male</td>\n",
       "      <td>Yes</td>\n",
       "      <td>29.0</td>\n",
       "    </tr>\n",
       "    <tr>\n",
       "      <th>17</th>\n",
       "      <td>258</td>\n",
       "      <td>2018-02-28 23:02:02.525</td>\n",
       "      <td>2018-02-28 23:06:21.498</td>\n",
       "      <td>2011</td>\n",
       "      <td>11th St at Bryant St</td>\n",
       "      <td>37.770030</td>\n",
       "      <td>-122.411726</td>\n",
       "      <td>2011</td>\n",
       "      <td>Potrero Ave and Mariposa St</td>\n",
       "      <td>37.763281</td>\n",
       "      <td>-122.407377</td>\n",
       "      <td>2011</td>\n",
       "      <td>Subscriber</td>\n",
       "      <td>1989.0</td>\n",
       "      <td>Male</td>\n",
       "      <td>No</td>\n",
       "      <td>30.0</td>\n",
       "    </tr>\n",
       "    <tr>\n",
       "      <th>18</th>\n",
       "      <td>280</td>\n",
       "      <td>2018-02-28 23:00:35.761</td>\n",
       "      <td>2018-02-28 23:05:16.208</td>\n",
       "      <td>54</td>\n",
       "      <td>MacArthur BART Station</td>\n",
       "      <td>37.828410</td>\n",
       "      <td>-122.266315</td>\n",
       "      <td>54</td>\n",
       "      <td>Market St at Brockhurst St</td>\n",
       "      <td>37.823321</td>\n",
       "      <td>-122.275733</td>\n",
       "      <td>54</td>\n",
       "      <td>Subscriber</td>\n",
       "      <td>1984.0</td>\n",
       "      <td>Male</td>\n",
       "      <td>No</td>\n",
       "      <td>35.0</td>\n",
       "    </tr>\n",
       "    <tr>\n",
       "      <th>19</th>\n",
       "      <td>1983</td>\n",
       "      <td>2018-02-28 22:29:56.631</td>\n",
       "      <td>2018-02-28 23:02:59.697</td>\n",
       "      <td>439</td>\n",
       "      <td>Mission Playground</td>\n",
       "      <td>37.759210</td>\n",
       "      <td>-122.421339</td>\n",
       "      <td>439</td>\n",
       "      <td>Davis St at Jackson St</td>\n",
       "      <td>37.797280</td>\n",
       "      <td>-122.398436</td>\n",
       "      <td>439</td>\n",
       "      <td>Subscriber</td>\n",
       "      <td>1990.0</td>\n",
       "      <td>Male</td>\n",
       "      <td>No</td>\n",
       "      <td>29.0</td>\n",
       "    </tr>\n",
       "  </tbody>\n",
       "</table>\n",
       "</div>"
      ],
      "text/plain": [
       "    duration_sec              start_time                end_time  \\\n",
       "0            598 2018-02-28 23:59:47.097 2018-03-01 00:09:45.187   \n",
       "1            943 2018-02-28 23:21:16.495 2018-02-28 23:36:59.974   \n",
       "2          18587 2018-02-28 18:20:55.190 2018-02-28 23:30:42.925   \n",
       "3          18558 2018-02-28 18:20:53.621 2018-02-28 23:30:12.450   \n",
       "4            885 2018-02-28 23:15:12.858 2018-02-28 23:29:58.608   \n",
       "5            921 2018-02-28 23:14:19.170 2018-02-28 23:29:40.437   \n",
       "6            277 2018-02-28 23:21:49.274 2018-02-28 23:26:27.222   \n",
       "7            285 2018-02-28 23:21:19.631 2018-02-28 23:26:05.405   \n",
       "8            363 2018-02-28 23:19:18.606 2018-02-28 23:25:22.274   \n",
       "9            226 2018-02-28 23:15:20.033 2018-02-28 23:19:06.620   \n",
       "10           219 2018-02-28 23:15:23.480 2018-02-28 23:19:03.068   \n",
       "11           261 2018-02-28 23:14:09.368 2018-02-28 23:18:31.281   \n",
       "12           530 2018-02-28 23:09:26.795 2018-02-28 23:18:16.868   \n",
       "13           762 2018-02-28 23:03:08.627 2018-02-28 23:15:51.269   \n",
       "14           637 2018-02-28 23:05:08.754 2018-02-28 23:15:45.778   \n",
       "15           789 2018-02-28 22:59:54.088 2018-02-28 23:13:03.377   \n",
       "16           144 2018-02-28 23:09:44.738 2018-02-28 23:12:08.821   \n",
       "17           258 2018-02-28 23:02:02.525 2018-02-28 23:06:21.498   \n",
       "18           280 2018-02-28 23:00:35.761 2018-02-28 23:05:16.208   \n",
       "19          1983 2018-02-28 22:29:56.631 2018-02-28 23:02:59.697   \n",
       "\n",
       "   start_station_id                                 start_station_name  \\\n",
       "0              1035  Yerba Buena Center for the Arts (Howard St at ...   \n",
       "1              1673                      The Embarcadero at Sansome St   \n",
       "2              3498                       4th St at Mission Bay Blvd S   \n",
       "3              3129                       4th St at Mission Bay Blvd S   \n",
       "4              1839                                   San Pedro Square   \n",
       "5              2656                           San Jose Diridon Station   \n",
       "6              1616                          San Salvador St at 1st St   \n",
       "7               144                                          Snow Park   \n",
       "8              3351                             MacArthur BART Station   \n",
       "9              1699                              William St at 10th St   \n",
       "10              908                              William St at 10th St   \n",
       "11             2807                                         SAP Center   \n",
       "12               48                         Almaden Blvd at Balbach St   \n",
       "13             3276                      Bancroft Way at Telegraph Ave   \n",
       "14             1450              W St John St at Guadalupe River Trail   \n",
       "15             1859                                         SAP Center   \n",
       "16              413                          San Fernando St at 4th St   \n",
       "17             2011                               11th St at Bryant St   \n",
       "18               54                             MacArthur BART Station   \n",
       "19              439                                 Mission Playground   \n",
       "\n",
       "    start_station_latitude  start_station_longitude end_station_id  \\\n",
       "0                37.784872              -122.400876           1035   \n",
       "1                37.804770              -122.403234           1673   \n",
       "2                37.770407              -122.391198           3498   \n",
       "3                37.770407              -122.391198           3129   \n",
       "4                37.336802              -121.894090           1839   \n",
       "5                37.329732              -121.901782           2656   \n",
       "6                37.330165              -121.885831           1616   \n",
       "7                37.807813              -122.264496            144   \n",
       "8                37.828410              -122.266315           3351   \n",
       "9                37.332794              -121.875926           1699   \n",
       "10               37.332794              -121.875926            908   \n",
       "11               37.332692              -121.900084           2807   \n",
       "12               37.326730              -121.889273             48   \n",
       "13               37.868813              -122.258764           3276   \n",
       "14               37.335388              -121.897920           1450   \n",
       "15               37.332692              -121.900084           1859   \n",
       "16               37.335885              -121.885660            413   \n",
       "17               37.770030              -122.411726           2011   \n",
       "18               37.828410              -122.266315             54   \n",
       "19               37.759210              -122.421339            439   \n",
       "\n",
       "                                     end_station_name  end_station_latitude  \\\n",
       "0                          Rhode Island St at 17th St             37.764478   \n",
       "1                 Union Square (Powell St at Post St)             37.788300   \n",
       "2   San Francisco Ferry Building (Harry Bridges Pl...             37.795392   \n",
       "3   San Francisco Ferry Building (Harry Bridges Pl...             37.795392   \n",
       "4                               Locust St at Grant St             37.322980   \n",
       "5                                Mission St at 1st St             37.350964   \n",
       "6                           San Fernando St at 4th St             37.335885   \n",
       "7                             Grand Ave at Perkins St             37.808894   \n",
       "8                                 Genoa St at 55th St             37.839649   \n",
       "9                           5th St at San Salvador St             37.332039   \n",
       "10                          5th St at San Salvador St             37.332039   \n",
       "11                          Morrison Ave at Julian St             37.333658   \n",
       "12                           San Jose Diridon Station             37.329732   \n",
       "13                                Dover St at 57th St             37.842630   \n",
       "14                          5th St at San Salvador St             37.332039   \n",
       "15                          5th St at San Salvador St             37.332039   \n",
       "16                             9th St at San Fernando             37.338395   \n",
       "17                        Potrero Ave and Mariposa St             37.763281   \n",
       "18                         Market St at Brockhurst St             37.823321   \n",
       "19                             Davis St at Jackson St             37.797280   \n",
       "\n",
       "    end_station_longitude bike_id   user_type  member_birth_year  \\\n",
       "0             -122.402570    1035  Subscriber             1988.0   \n",
       "1             -122.408531    1673    Customer             1987.0   \n",
       "2             -122.394203    3498    Customer             1986.0   \n",
       "3             -122.394203    3129    Customer             1981.0   \n",
       "4             -121.887931    1839  Subscriber             1976.0   \n",
       "5             -121.902016    2656    Customer             1997.0   \n",
       "6             -121.885660    1616  Subscriber             1957.0   \n",
       "7             -122.256460     144  Subscriber             1990.0   \n",
       "8             -122.271756    3351  Subscriber             1975.0   \n",
       "9             -121.881766    1699  Subscriber             1996.0   \n",
       "10            -121.881766     908  Subscriber             1995.0   \n",
       "11            -121.908586    2807  Subscriber             1972.0   \n",
       "12            -121.901782      48  Subscriber             1985.0   \n",
       "13            -122.267738    3276  Subscriber             1988.0   \n",
       "14            -121.881766    1450  Subscriber             1998.0   \n",
       "15            -121.881766    1859  Subscriber             1997.0   \n",
       "16            -121.880797     413  Subscriber             1990.0   \n",
       "17            -122.407377    2011  Subscriber             1989.0   \n",
       "18            -122.275733      54  Subscriber             1984.0   \n",
       "19            -122.398436     439  Subscriber             1990.0   \n",
       "\n",
       "   member_gender bike_share_for_all_trip  member_age  \n",
       "0           Male                      No        31.0  \n",
       "1           Male                      No        32.0  \n",
       "2         Female                      No        33.0  \n",
       "3           Male                      No        38.0  \n",
       "4         Female                     Yes        43.0  \n",
       "5           Male                      No        22.0  \n",
       "6         Female                      No        62.0  \n",
       "7         Female                      No        29.0  \n",
       "8           Male                      No        44.0  \n",
       "9           Male                     Yes        23.0  \n",
       "10          Male                     Yes        24.0  \n",
       "11          Male                      No        47.0  \n",
       "12          Male                      No        34.0  \n",
       "13        Female                      No        31.0  \n",
       "14          Male                     Yes        21.0  \n",
       "15        Female                      No        22.0  \n",
       "16          Male                     Yes        29.0  \n",
       "17          Male                      No        30.0  \n",
       "18          Male                      No        35.0  \n",
       "19          Male                      No        29.0  "
      ]
     },
     "execution_count": 30,
     "metadata": {},
     "output_type": "execute_result"
    }
   ],
   "source": [
    "bike18_clean.head(20)"
   ]
  },
  {
   "cell_type": "markdown",
   "metadata": {},
   "source": [
    "**Define**\n",
    "<br>Dividing date and time into different columns for easier analysis later"
   ]
  },
  {
   "cell_type": "markdown",
   "metadata": {},
   "source": [
    "**Code**"
   ]
  },
  {
   "cell_type": "code",
   "execution_count": 31,
   "metadata": {},
   "outputs": [],
   "source": [
    "# extract start time month name\n",
    "bike18_clean['start_time_month_name']=bike18_clean['start_time'].dt.strftime('%B')"
   ]
  },
  {
   "cell_type": "code",
   "execution_count": 32,
   "metadata": {},
   "outputs": [],
   "source": [
    "# extract start time month number\n",
    "bike18_clean['start_time_month']=bike18_clean['start_time'].dt.month.astype(int)"
   ]
  },
  {
   "cell_type": "code",
   "execution_count": 33,
   "metadata": {},
   "outputs": [],
   "source": [
    "# extract start time weekdays\n",
    "bike18_clean['start_time_weekday']=bike18_clean['start_time'].dt.strftime('%a')"
   ]
  },
  {
   "cell_type": "code",
   "execution_count": 34,
   "metadata": {},
   "outputs": [],
   "source": [
    "# extract start time day\n",
    "bike18_clean['start_time_day']=bike18_clean['start_time'].dt.day.astype(int)"
   ]
  },
  {
   "cell_type": "code",
   "execution_count": 35,
   "metadata": {},
   "outputs": [],
   "source": [
    "# extract start time hour\n",
    "bike18_clean['start_time_hour']=bike18_clean['start_time'].dt.hour"
   ]
  },
  {
   "cell_type": "markdown",
   "metadata": {},
   "source": [
    "**Test**"
   ]
  },
  {
   "cell_type": "code",
   "execution_count": 36,
   "metadata": {},
   "outputs": [
    {
     "data": {
      "text/html": [
       "<div>\n",
       "<style scoped>\n",
       "    .dataframe tbody tr th:only-of-type {\n",
       "        vertical-align: middle;\n",
       "    }\n",
       "\n",
       "    .dataframe tbody tr th {\n",
       "        vertical-align: top;\n",
       "    }\n",
       "\n",
       "    .dataframe thead th {\n",
       "        text-align: right;\n",
       "    }\n",
       "</style>\n",
       "<table border=\"1\" class=\"dataframe\">\n",
       "  <thead>\n",
       "    <tr style=\"text-align: right;\">\n",
       "      <th></th>\n",
       "      <th>duration_sec</th>\n",
       "      <th>start_time</th>\n",
       "      <th>end_time</th>\n",
       "      <th>start_station_id</th>\n",
       "      <th>start_station_name</th>\n",
       "      <th>start_station_latitude</th>\n",
       "      <th>start_station_longitude</th>\n",
       "      <th>end_station_id</th>\n",
       "      <th>end_station_name</th>\n",
       "      <th>end_station_latitude</th>\n",
       "      <th>...</th>\n",
       "      <th>user_type</th>\n",
       "      <th>member_birth_year</th>\n",
       "      <th>member_gender</th>\n",
       "      <th>bike_share_for_all_trip</th>\n",
       "      <th>member_age</th>\n",
       "      <th>start_time_month_name</th>\n",
       "      <th>start_time_month</th>\n",
       "      <th>start_time_weekday</th>\n",
       "      <th>start_time_day</th>\n",
       "      <th>start_time_hour</th>\n",
       "    </tr>\n",
       "  </thead>\n",
       "  <tbody>\n",
       "    <tr>\n",
       "      <th>0</th>\n",
       "      <td>598</td>\n",
       "      <td>2018-02-28 23:59:47.097</td>\n",
       "      <td>2018-03-01 00:09:45.187</td>\n",
       "      <td>1035</td>\n",
       "      <td>Yerba Buena Center for the Arts (Howard St at ...</td>\n",
       "      <td>37.784872</td>\n",
       "      <td>-122.400876</td>\n",
       "      <td>1035</td>\n",
       "      <td>Rhode Island St at 17th St</td>\n",
       "      <td>37.764478</td>\n",
       "      <td>...</td>\n",
       "      <td>Subscriber</td>\n",
       "      <td>1988.0</td>\n",
       "      <td>Male</td>\n",
       "      <td>No</td>\n",
       "      <td>31.0</td>\n",
       "      <td>February</td>\n",
       "      <td>2</td>\n",
       "      <td>Wed</td>\n",
       "      <td>28</td>\n",
       "      <td>23</td>\n",
       "    </tr>\n",
       "    <tr>\n",
       "      <th>1</th>\n",
       "      <td>943</td>\n",
       "      <td>2018-02-28 23:21:16.495</td>\n",
       "      <td>2018-02-28 23:36:59.974</td>\n",
       "      <td>1673</td>\n",
       "      <td>The Embarcadero at Sansome St</td>\n",
       "      <td>37.804770</td>\n",
       "      <td>-122.403234</td>\n",
       "      <td>1673</td>\n",
       "      <td>Union Square (Powell St at Post St)</td>\n",
       "      <td>37.788300</td>\n",
       "      <td>...</td>\n",
       "      <td>Customer</td>\n",
       "      <td>1987.0</td>\n",
       "      <td>Male</td>\n",
       "      <td>No</td>\n",
       "      <td>32.0</td>\n",
       "      <td>February</td>\n",
       "      <td>2</td>\n",
       "      <td>Wed</td>\n",
       "      <td>28</td>\n",
       "      <td>23</td>\n",
       "    </tr>\n",
       "    <tr>\n",
       "      <th>2</th>\n",
       "      <td>18587</td>\n",
       "      <td>2018-02-28 18:20:55.190</td>\n",
       "      <td>2018-02-28 23:30:42.925</td>\n",
       "      <td>3498</td>\n",
       "      <td>4th St at Mission Bay Blvd S</td>\n",
       "      <td>37.770407</td>\n",
       "      <td>-122.391198</td>\n",
       "      <td>3498</td>\n",
       "      <td>San Francisco Ferry Building (Harry Bridges Pl...</td>\n",
       "      <td>37.795392</td>\n",
       "      <td>...</td>\n",
       "      <td>Customer</td>\n",
       "      <td>1986.0</td>\n",
       "      <td>Female</td>\n",
       "      <td>No</td>\n",
       "      <td>33.0</td>\n",
       "      <td>February</td>\n",
       "      <td>2</td>\n",
       "      <td>Wed</td>\n",
       "      <td>28</td>\n",
       "      <td>18</td>\n",
       "    </tr>\n",
       "    <tr>\n",
       "      <th>3</th>\n",
       "      <td>18558</td>\n",
       "      <td>2018-02-28 18:20:53.621</td>\n",
       "      <td>2018-02-28 23:30:12.450</td>\n",
       "      <td>3129</td>\n",
       "      <td>4th St at Mission Bay Blvd S</td>\n",
       "      <td>37.770407</td>\n",
       "      <td>-122.391198</td>\n",
       "      <td>3129</td>\n",
       "      <td>San Francisco Ferry Building (Harry Bridges Pl...</td>\n",
       "      <td>37.795392</td>\n",
       "      <td>...</td>\n",
       "      <td>Customer</td>\n",
       "      <td>1981.0</td>\n",
       "      <td>Male</td>\n",
       "      <td>No</td>\n",
       "      <td>38.0</td>\n",
       "      <td>February</td>\n",
       "      <td>2</td>\n",
       "      <td>Wed</td>\n",
       "      <td>28</td>\n",
       "      <td>18</td>\n",
       "    </tr>\n",
       "    <tr>\n",
       "      <th>4</th>\n",
       "      <td>885</td>\n",
       "      <td>2018-02-28 23:15:12.858</td>\n",
       "      <td>2018-02-28 23:29:58.608</td>\n",
       "      <td>1839</td>\n",
       "      <td>San Pedro Square</td>\n",
       "      <td>37.336802</td>\n",
       "      <td>-121.894090</td>\n",
       "      <td>1839</td>\n",
       "      <td>Locust St at Grant St</td>\n",
       "      <td>37.322980</td>\n",
       "      <td>...</td>\n",
       "      <td>Subscriber</td>\n",
       "      <td>1976.0</td>\n",
       "      <td>Female</td>\n",
       "      <td>Yes</td>\n",
       "      <td>43.0</td>\n",
       "      <td>February</td>\n",
       "      <td>2</td>\n",
       "      <td>Wed</td>\n",
       "      <td>28</td>\n",
       "      <td>23</td>\n",
       "    </tr>\n",
       "  </tbody>\n",
       "</table>\n",
       "<p>5 rows × 22 columns</p>\n",
       "</div>"
      ],
      "text/plain": [
       "   duration_sec              start_time                end_time  \\\n",
       "0           598 2018-02-28 23:59:47.097 2018-03-01 00:09:45.187   \n",
       "1           943 2018-02-28 23:21:16.495 2018-02-28 23:36:59.974   \n",
       "2         18587 2018-02-28 18:20:55.190 2018-02-28 23:30:42.925   \n",
       "3         18558 2018-02-28 18:20:53.621 2018-02-28 23:30:12.450   \n",
       "4           885 2018-02-28 23:15:12.858 2018-02-28 23:29:58.608   \n",
       "\n",
       "  start_station_id                                 start_station_name  \\\n",
       "0             1035  Yerba Buena Center for the Arts (Howard St at ...   \n",
       "1             1673                      The Embarcadero at Sansome St   \n",
       "2             3498                       4th St at Mission Bay Blvd S   \n",
       "3             3129                       4th St at Mission Bay Blvd S   \n",
       "4             1839                                   San Pedro Square   \n",
       "\n",
       "   start_station_latitude  start_station_longitude end_station_id  \\\n",
       "0               37.784872              -122.400876           1035   \n",
       "1               37.804770              -122.403234           1673   \n",
       "2               37.770407              -122.391198           3498   \n",
       "3               37.770407              -122.391198           3129   \n",
       "4               37.336802              -121.894090           1839   \n",
       "\n",
       "                                    end_station_name  end_station_latitude  \\\n",
       "0                         Rhode Island St at 17th St             37.764478   \n",
       "1                Union Square (Powell St at Post St)             37.788300   \n",
       "2  San Francisco Ferry Building (Harry Bridges Pl...             37.795392   \n",
       "3  San Francisco Ferry Building (Harry Bridges Pl...             37.795392   \n",
       "4                              Locust St at Grant St             37.322980   \n",
       "\n",
       "   ...   user_type member_birth_year member_gender  bike_share_for_all_trip  \\\n",
       "0  ...  Subscriber            1988.0          Male                       No   \n",
       "1  ...    Customer            1987.0          Male                       No   \n",
       "2  ...    Customer            1986.0        Female                       No   \n",
       "3  ...    Customer            1981.0          Male                       No   \n",
       "4  ...  Subscriber            1976.0        Female                      Yes   \n",
       "\n",
       "  member_age start_time_month_name  start_time_month start_time_weekday  \\\n",
       "0       31.0              February                 2                Wed   \n",
       "1       32.0              February                 2                Wed   \n",
       "2       33.0              February                 2                Wed   \n",
       "3       38.0              February                 2                Wed   \n",
       "4       43.0              February                 2                Wed   \n",
       "\n",
       "   start_time_day start_time_hour  \n",
       "0              28              23  \n",
       "1              28              23  \n",
       "2              28              18  \n",
       "3              28              18  \n",
       "4              28              23  \n",
       "\n",
       "[5 rows x 22 columns]"
      ]
     },
     "execution_count": 36,
     "metadata": {},
     "output_type": "execute_result"
    }
   ],
   "source": [
    "bike18_clean.head()"
   ]
  },
  {
   "cell_type": "code",
   "execution_count": 73,
   "metadata": {},
   "outputs": [
    {
     "name": "stdout",
     "output_type": "stream",
     "text": [
      "<class 'pandas.core.frame.DataFrame'>\n",
      "Int64Index: 1708250 entries, 0 to 1863720\n",
      "Data columns (total 22 columns):\n",
      "duration_sec               1708250 non-null int64\n",
      "start_time                 1708250 non-null datetime64[ns]\n",
      "end_time                   1708250 non-null datetime64[ns]\n",
      "start_station_id           1708250 non-null object\n",
      "start_station_name         1696859 non-null object\n",
      "start_station_latitude     1708250 non-null float64\n",
      "start_station_longitude    1708250 non-null float64\n",
      "end_station_id             1708250 non-null object\n",
      "end_station_name           1696859 non-null object\n",
      "end_station_latitude       1708250 non-null float64\n",
      "end_station_longitude      1708250 non-null float64\n",
      "bike_id                    1708250 non-null object\n",
      "user_type                  1708250 non-null category\n",
      "member_birth_year          1708250 non-null int64\n",
      "member_gender              1708250 non-null category\n",
      "bike_share_for_all_trip    1708250 non-null category\n",
      "member_age                 1708250 non-null int64\n",
      "start_time_month_name      1708250 non-null object\n",
      "start_time_month           1708250 non-null int64\n",
      "start_time_weekday         1708250 non-null category\n",
      "start_time_day             1708250 non-null int64\n",
      "start_time_hour            1708250 non-null int64\n",
      "dtypes: category(4), datetime64[ns](2), float64(4), int64(6), object(6)\n",
      "memory usage: 254.1+ MB\n"
     ]
    }
   ],
   "source": [
    "bike18_clean.info( null_counts=True)"
   ]
  },
  {
   "cell_type": "code",
   "execution_count": 39,
   "metadata": {},
   "outputs": [
    {
     "data": {
      "text/plain": [
       "35.91203780027758"
      ]
     },
     "execution_count": 39,
     "metadata": {},
     "output_type": "execute_result"
    }
   ],
   "source": [
    "bike18_clean.member_age.mean()"
   ]
  },
  {
   "cell_type": "code",
   "execution_count": 74,
   "metadata": {},
   "outputs": [
    {
     "data": {
      "text/plain": [
       "count    1.708250e+06\n",
       "mean     3.509174e+01\n",
       "std      9.114289e+00\n",
       "min      1.900000e+01\n",
       "25%      2.800000e+01\n",
       "50%      3.300000e+01\n",
       "75%      4.000000e+01\n",
       "max      6.000000e+01\n",
       "Name: member_age, dtype: float64"
      ]
     },
     "execution_count": 74,
     "metadata": {},
     "output_type": "execute_result"
    }
   ],
   "source": [
    "bike18_clean.member_age.describe()"
   ]
  },
  {
   "cell_type": "markdown",
   "metadata": {},
   "source": [
    "**Define**\n",
    "<br>Remove age outliers. Customers below the age of 60 will be considered."
   ]
  },
  {
   "cell_type": "markdown",
   "metadata": {},
   "source": [
    "**Code**"
   ]
  },
  {
   "cell_type": "code",
   "execution_count": 41,
   "metadata": {},
   "outputs": [],
   "source": [
    "# Keep records below 60, it automatically removes null values\n",
    "bike18_clean = bike18_clean.query('member_age <=60')"
   ]
  },
  {
   "cell_type": "code",
   "execution_count": 42,
   "metadata": {},
   "outputs": [],
   "source": [
    "# change age and birth year to integer\n",
    "bike18_clean.member_age = bike18_clean.member_age.astype(int)\n",
    "bike18_clean.member_birth_year = bike18_clean.member_birth_year.astype(int)"
   ]
  },
  {
   "cell_type": "markdown",
   "metadata": {},
   "source": [
    "**Test**"
   ]
  },
  {
   "cell_type": "code",
   "execution_count": 43,
   "metadata": {},
   "outputs": [
    {
     "data": {
      "text/html": [
       "<div>\n",
       "<style scoped>\n",
       "    .dataframe tbody tr th:only-of-type {\n",
       "        vertical-align: middle;\n",
       "    }\n",
       "\n",
       "    .dataframe tbody tr th {\n",
       "        vertical-align: top;\n",
       "    }\n",
       "\n",
       "    .dataframe thead th {\n",
       "        text-align: right;\n",
       "    }\n",
       "</style>\n",
       "<table border=\"1\" class=\"dataframe\">\n",
       "  <thead>\n",
       "    <tr style=\"text-align: right;\">\n",
       "      <th></th>\n",
       "      <th>duration_sec</th>\n",
       "      <th>start_station_latitude</th>\n",
       "      <th>start_station_longitude</th>\n",
       "      <th>end_station_latitude</th>\n",
       "      <th>end_station_longitude</th>\n",
       "      <th>member_birth_year</th>\n",
       "      <th>member_age</th>\n",
       "      <th>start_time_month</th>\n",
       "      <th>start_time_day</th>\n",
       "      <th>start_time_hour</th>\n",
       "    </tr>\n",
       "  </thead>\n",
       "  <tbody>\n",
       "    <tr>\n",
       "      <th>count</th>\n",
       "      <td>1.708250e+06</td>\n",
       "      <td>1.708250e+06</td>\n",
       "      <td>1.708250e+06</td>\n",
       "      <td>1.708250e+06</td>\n",
       "      <td>1.708250e+06</td>\n",
       "      <td>1.708250e+06</td>\n",
       "      <td>1.708250e+06</td>\n",
       "      <td>1.708250e+06</td>\n",
       "      <td>1.708250e+06</td>\n",
       "      <td>1.708250e+06</td>\n",
       "    </tr>\n",
       "    <tr>\n",
       "      <th>mean</th>\n",
       "      <td>7.770344e+02</td>\n",
       "      <td>3.776626e+01</td>\n",
       "      <td>-1.223483e+02</td>\n",
       "      <td>3.776635e+01</td>\n",
       "      <td>-1.223477e+02</td>\n",
       "      <td>1.983908e+03</td>\n",
       "      <td>3.509174e+01</td>\n",
       "      <td>6.985020e+00</td>\n",
       "      <td>1.572093e+01</td>\n",
       "      <td>1.351124e+01</td>\n",
       "    </tr>\n",
       "    <tr>\n",
       "      <th>std</th>\n",
       "      <td>1.985384e+03</td>\n",
       "      <td>1.068892e-01</td>\n",
       "      <td>1.695276e-01</td>\n",
       "      <td>1.067575e-01</td>\n",
       "      <td>1.691045e-01</td>\n",
       "      <td>9.114289e+00</td>\n",
       "      <td>9.114289e+00</td>\n",
       "      <td>3.112264e+00</td>\n",
       "      <td>8.782700e+00</td>\n",
       "      <td>4.769725e+00</td>\n",
       "    </tr>\n",
       "    <tr>\n",
       "      <th>min</th>\n",
       "      <td>6.100000e+01</td>\n",
       "      <td>3.726331e+01</td>\n",
       "      <td>-1.224737e+02</td>\n",
       "      <td>3.726331e+01</td>\n",
       "      <td>-1.224737e+02</td>\n",
       "      <td>1.959000e+03</td>\n",
       "      <td>1.900000e+01</td>\n",
       "      <td>1.000000e+00</td>\n",
       "      <td>1.000000e+00</td>\n",
       "      <td>0.000000e+00</td>\n",
       "    </tr>\n",
       "    <tr>\n",
       "      <th>25%</th>\n",
       "      <td>3.450000e+02</td>\n",
       "      <td>3.777041e+01</td>\n",
       "      <td>-1.224114e+02</td>\n",
       "      <td>3.777106e+01</td>\n",
       "      <td>-1.224094e+02</td>\n",
       "      <td>1.979000e+03</td>\n",
       "      <td>2.800000e+01</td>\n",
       "      <td>5.000000e+00</td>\n",
       "      <td>8.000000e+00</td>\n",
       "      <td>9.000000e+00</td>\n",
       "    </tr>\n",
       "    <tr>\n",
       "      <th>50%</th>\n",
       "      <td>5.430000e+02</td>\n",
       "      <td>3.778107e+01</td>\n",
       "      <td>-1.223971e+02</td>\n",
       "      <td>3.778107e+01</td>\n",
       "      <td>-1.223959e+02</td>\n",
       "      <td>1.986000e+03</td>\n",
       "      <td>3.300000e+01</td>\n",
       "      <td>7.000000e+00</td>\n",
       "      <td>1.600000e+01</td>\n",
       "      <td>1.400000e+01</td>\n",
       "    </tr>\n",
       "    <tr>\n",
       "      <th>75%</th>\n",
       "      <td>8.400000e+02</td>\n",
       "      <td>3.779581e+01</td>\n",
       "      <td>-1.222831e+02</td>\n",
       "      <td>3.779625e+01</td>\n",
       "      <td>-1.222876e+02</td>\n",
       "      <td>1.991000e+03</td>\n",
       "      <td>4.000000e+01</td>\n",
       "      <td>1.000000e+01</td>\n",
       "      <td>2.300000e+01</td>\n",
       "      <td>1.700000e+01</td>\n",
       "    </tr>\n",
       "    <tr>\n",
       "      <th>max</th>\n",
       "      <td>8.628100e+04</td>\n",
       "      <td>4.551000e+01</td>\n",
       "      <td>-7.357000e+01</td>\n",
       "      <td>4.551000e+01</td>\n",
       "      <td>-7.357000e+01</td>\n",
       "      <td>2.000000e+03</td>\n",
       "      <td>6.000000e+01</td>\n",
       "      <td>1.200000e+01</td>\n",
       "      <td>3.100000e+01</td>\n",
       "      <td>2.300000e+01</td>\n",
       "    </tr>\n",
       "  </tbody>\n",
       "</table>\n",
       "</div>"
      ],
      "text/plain": [
       "       duration_sec  start_station_latitude  start_station_longitude  \\\n",
       "count  1.708250e+06            1.708250e+06             1.708250e+06   \n",
       "mean   7.770344e+02            3.776626e+01            -1.223483e+02   \n",
       "std    1.985384e+03            1.068892e-01             1.695276e-01   \n",
       "min    6.100000e+01            3.726331e+01            -1.224737e+02   \n",
       "25%    3.450000e+02            3.777041e+01            -1.224114e+02   \n",
       "50%    5.430000e+02            3.778107e+01            -1.223971e+02   \n",
       "75%    8.400000e+02            3.779581e+01            -1.222831e+02   \n",
       "max    8.628100e+04            4.551000e+01            -7.357000e+01   \n",
       "\n",
       "       end_station_latitude  end_station_longitude  member_birth_year  \\\n",
       "count          1.708250e+06           1.708250e+06       1.708250e+06   \n",
       "mean           3.776635e+01          -1.223477e+02       1.983908e+03   \n",
       "std            1.067575e-01           1.691045e-01       9.114289e+00   \n",
       "min            3.726331e+01          -1.224737e+02       1.959000e+03   \n",
       "25%            3.777106e+01          -1.224094e+02       1.979000e+03   \n",
       "50%            3.778107e+01          -1.223959e+02       1.986000e+03   \n",
       "75%            3.779625e+01          -1.222876e+02       1.991000e+03   \n",
       "max            4.551000e+01          -7.357000e+01       2.000000e+03   \n",
       "\n",
       "         member_age  start_time_month  start_time_day  start_time_hour  \n",
       "count  1.708250e+06      1.708250e+06    1.708250e+06     1.708250e+06  \n",
       "mean   3.509174e+01      6.985020e+00    1.572093e+01     1.351124e+01  \n",
       "std    9.114289e+00      3.112264e+00    8.782700e+00     4.769725e+00  \n",
       "min    1.900000e+01      1.000000e+00    1.000000e+00     0.000000e+00  \n",
       "25%    2.800000e+01      5.000000e+00    8.000000e+00     9.000000e+00  \n",
       "50%    3.300000e+01      7.000000e+00    1.600000e+01     1.400000e+01  \n",
       "75%    4.000000e+01      1.000000e+01    2.300000e+01     1.700000e+01  \n",
       "max    6.000000e+01      1.200000e+01    3.100000e+01     2.300000e+01  "
      ]
     },
     "execution_count": 43,
     "metadata": {},
     "output_type": "execute_result"
    }
   ],
   "source": [
    "bike18_clean.describe()"
   ]
  },
  {
   "cell_type": "code",
   "execution_count": 75,
   "metadata": {},
   "outputs": [
    {
     "name": "stdout",
     "output_type": "stream",
     "text": [
      "<class 'pandas.core.frame.DataFrame'>\n",
      "Int64Index: 1708250 entries, 0 to 1863720\n",
      "Data columns (total 22 columns):\n",
      "duration_sec               1708250 non-null int64\n",
      "start_time                 1708250 non-null datetime64[ns]\n",
      "end_time                   1708250 non-null datetime64[ns]\n",
      "start_station_id           1708250 non-null object\n",
      "start_station_name         1696859 non-null object\n",
      "start_station_latitude     1708250 non-null float64\n",
      "start_station_longitude    1708250 non-null float64\n",
      "end_station_id             1708250 non-null object\n",
      "end_station_name           1696859 non-null object\n",
      "end_station_latitude       1708250 non-null float64\n",
      "end_station_longitude      1708250 non-null float64\n",
      "bike_id                    1708250 non-null object\n",
      "user_type                  1708250 non-null category\n",
      "member_birth_year          1708250 non-null int64\n",
      "member_gender              1708250 non-null category\n",
      "bike_share_for_all_trip    1708250 non-null category\n",
      "member_age                 1708250 non-null int64\n",
      "start_time_month_name      1708250 non-null object\n",
      "start_time_month           1708250 non-null int64\n",
      "start_time_weekday         1708250 non-null category\n",
      "start_time_day             1708250 non-null int64\n",
      "start_time_hour            1708250 non-null int64\n",
      "dtypes: category(4), datetime64[ns](2), float64(4), int64(6), object(6)\n",
      "memory usage: 254.1+ MB\n"
     ]
    }
   ],
   "source": [
    "bike18_clean.info(null_counts=True)"
   ]
  },
  {
   "cell_type": "code",
   "execution_count": 77,
   "metadata": {},
   "outputs": [],
   "source": [
    "# save cleaned data \n",
    "bike18_clean.to_csv('clean_file.csv', index=False)"
   ]
  },
  {
   "cell_type": "markdown",
   "metadata": {},
   "source": [
    "### What is the structure of your dataset?\n",
    "\n",
    "Originally there were approx. 185,000 bike rides that happen in 2018 in the San Francisco Bay Area. The dataset contained features about:\n",
    " * trip duration\n",
    " * stations: start/end station\n",
    " * anonymized customer data: Gender, Age\n",
    " * Bike info\n",
    "\n",
    "Some columns were created to increase the legibility of the data and generate better insights : \n",
    " * rental time: month, day, hour of the day, weekday (both for start and end date)\n",
    " * customer: age\n",
    "\n",
    "### What is/are the main feature(s) of interest in your dataset?\n",
    "\n",
    "The main feature of interest will be the volume of bike rides across different times during the year and the distribution within the consumer base ie. Subscriber or casual customer.\n",
    "### What features in the dataset do you think will help support your investigation into your feature(s) of interest?\n",
    "\n",
    "Consumer related data such as Age, Gender, Start Time and Date will be used majorly to determine area of interests.\n",
    "<a id='univariate'></a>\n",
    "## Part IV - Univariate Exploration\n",
    "\n",
    "The way trips are distributed across : \n",
    "* Months\n",
    "* Weekdays\n",
    "* Hours \n",
    "\n",
    "This will give us an idea of overall usage patterns for the bike rental service."
   ]
  },
  {
   "cell_type": "code",
   "execution_count": 92,
   "metadata": {},
   "outputs": [
    {
     "data": {
      "image/png": "[encoded data removed]",
      "text/plain": [
       "<Figure size 360x360 with 1 Axes>"
      ]
     },
     "metadata": {
      "needs_background": "light"
     },
     "output_type": "display_data"
    }
   ],
   "source": [
    "# monthly usege of the bike sharing system\n",
    "g = sns.catplot(data=bike18_clean, x='start_time_month', kind='count', color = base_color)\n",
    "g.set_axis_labels(\"Month\", \"#Bike Trips\")\n",
    "g.fig.suptitle('Monthly usage', y=1.03, fontsize=14);"
   ]
  },
  {
   "cell_type": "markdown",
   "metadata": {},
   "source": [
    "The usage of the service decreases in towards the end of the year, mainly due to cold weather whereas usage increases during the spring and peaks around the Fall in October."
   ]
  },
  {
   "cell_type": "code",
   "execution_count": 93,
   "metadata": {},
   "outputs": [
    {
     "data": {
      "image/png": "[encoded data removed]",
      "text/plain": [
       "<Figure size 360x360 with 1 Axes>"
      ]
     },
     "metadata": {
      "needs_background": "light"
     },
     "output_type": "display_data"
    }
   ],
   "source": [
    "weekday = ['Mon', 'Tue', 'Wed', 'Thu', 'Fri', 'Sat', 'Sun']\n",
    "g = sns.catplot(data=bike18_clean, x='start_time_weekday', kind='count', color = base_color, order = weekday)\n",
    "g.set_axis_labels(\"Weekdays\", \"#Bike Trips\")\n",
    "g.fig.suptitle('Weekly usage', y=1.03, fontsize=14);"
   ]
  },
  {
   "cell_type": "markdown",
   "metadata": {},
   "source": [
    "The service is used the least during the weekend which signifies people using it mainly for daily commute rather than leisurely activities."
   ]
  },
  {
   "cell_type": "code",
   "execution_count": 94,
   "metadata": {},
   "outputs": [
    {
     "data": {
      "image/png": "[encoded data removed]",
      "text/plain": [
       "<Figure size 360x360 with 1 Axes>"
      ]
     },
     "metadata": {
      "needs_background": "light"
     },
     "output_type": "display_data"
    }
   ],
   "source": [
    "g = sns.catplot(data=bike18_clean, x='start_time_hour', kind='count', color = base_color)\n",
    "g.set_axis_labels(\"Hours\", \"#Bike Trips\")\n",
    "g.fig.suptitle('Hourly usage of the bike share system', y=1.03, fontsize=14);"
   ]
  },
  {
   "cell_type": "markdown",
   "metadata": {},
   "source": [
    "The morning and evening time rush hours are the most common among users. "
   ]
  },
  {
   "cell_type": "code",
   "execution_count": 95,
   "metadata": {},
   "outputs": [
    {
     "data": {
      "image/png": "[encoded data removed]",
      "text/plain": [
       "<Figure size 432x288 with 1 Axes>"
      ]
     },
     "metadata": {
      "needs_background": "light"
     },
     "output_type": "display_data"
    }
   ],
   "source": [
    "# code for the (histogram) duration (sec) distribution per user type\n",
    "\n",
    "bin_edges = np.arange(0, 3600,60) # range set for 60 min\n",
    "\n",
    "plt.hist(data = bike18_clean, x = 'duration_sec', bins = bin_edges)\n",
    "\n",
    "plt.title(\"Trip duration (sec)\", y=1.03, fontsize=14)\n",
    "plt.xlabel('Weekday')\n",
    "plt.ylabel('Duration (sec)');"
   ]
  },
  {
   "cell_type": "markdown",
   "metadata": {},
   "source": [
    "Looking at the histogram, we can see that trip durations are no longer than 30 min and more commonly upto 15 mins.\n",
    "\n",
    "The way the system is used: as is looks like people use the system for commuting, they trips are usually short in time probably due to the closeness of their homes to workplace/school."
   ]
  },
  {
   "cell_type": "markdown",
   "metadata": {},
   "source": [
    "### Discuss the distribution(s) of your variable(s) of interest. Were there any unusual points? Did you need to perform any transformations?\n",
    "\n",
    "> There was one unusal points for the duration (sec), which in some cases lasted more than 24h. For the histogram I set the max range to 3600 sec = 60 min.\n",
    "\n",
    "### Of the features you investigated, were there any unusual distributions? Did you perform any operations on the data to tidy, adjust, or change the form of the data? If so, why did you do this?\n",
    "\n",
    "> There was one unusal distribution for the member birth year, which in some cases was dated before 1900. Since 95% of the members are between 17 and 57 years, I removed users older than 60.\n"
   ]
  },
  {
   "cell_type": "markdown",
   "metadata": {},
   "source": [
    "<a id='bivariate'></a>\n",
    "## Part V - Bivariate Exploration\n",
    "\n",
    "In this section I will further explore the dataset by adding the customer type to the analysis."
   ]
  },
  {
   "cell_type": "code",
   "execution_count": 50,
   "metadata": {},
   "outputs": [],
   "source": [
    "# calculating % split for the user type\n",
    "customer = bike18_clean.query('user_type == \"Customer\"')['bike_id'].count()\n",
    "subscriber = bike18_clean.query('user_type == \"Subscriber\"')['bike_id'].count()\n",
    "\n",
    "customer_proportion = customer / bike18_clean['bike_id'].count()\n",
    "subscriber_proportion = subscriber / bike18_clean['bike_id'].count()"
   ]
  },
  {
   "cell_type": "code",
   "execution_count": 101,
   "metadata": {},
   "outputs": [
    {
     "data": {
      "image/png": "[encoded data removed]",
      "text/plain": [
       "<Figure size 720x360 with 2 Axes>"
      ]
     },
     "metadata": {
      "needs_background": "light"
     },
     "output_type": "display_data"
    }
   ],
   "source": [
    "plt.figure(figsize = [10, 5])\n",
    "\n",
    "# code for the bar chart\n",
    "plt.subplot(1, 2, 1)\n",
    "\n",
    "g = sns.countplot(data=bike18_clean, x=\"user_type\", order=bike18_clean.user_type.value_counts().index)\n",
    "g.set_xlabel('User Type')\n",
    "g.set_ylabel('Bike Trips')\n",
    "\n",
    "# code for the pie chart\n",
    "plt.subplot(1, 2, 2)\n",
    "\n",
    "labels = ['Customer', 'Subscriber']\n",
    "sizes = [customer_proportion, subscriber_proportion]\n",
    "colors = ['red', 'yellow']\n",
    "\n",
    "plt.pie(sizes, labels=labels, colors = colors,\n",
    "        autopct='%1.1f%%', shadow=True, startangle=90)\n",
    "plt.axis('equal')\n",
    "\n",
    "plt.suptitle('User type split for GoBike sharing system', fontsize=14);"
   ]
  },
  {
   "cell_type": "markdown",
   "metadata": {},
   "source": [
    "The bike sharing system is mainly used by subscribers (88%) than ocassional riders (12%).\n",
    "<br>\n",
    "<br>Next I am going to explore the renting trends per each user type."
   ]
  },
  {
   "cell_type": "code",
   "execution_count": 105,
   "metadata": {},
   "outputs": [
    {
     "data": {
      "image/png": "[encoded data removed]",
      "text/plain": [
       "<Figure size 720x360 with 2 Axes>"
      ]
     },
     "metadata": {
      "needs_background": "light"
     },
     "output_type": "display_data"
    }
   ],
   "source": [
    "# monthly usege of the bike sharing system per user type\n",
    "g = sns.catplot(data=bike18_clean, x='start_time_month', col=\"user_type\", kind='count',\n",
    "            color = base_color)\n",
    "g.set_axis_labels(\"Month\", \"Bike Trips\")\n",
    "g.set_titles(\"{col_name}\")\n",
    "g.fig.suptitle('Monthly usage of the bike share system per user type', y=1.03, fontsize=14);"
   ]
  },
  {
   "cell_type": "markdown",
   "metadata": {},
   "source": [
    "Winter months are the worst for the bike sharing system for both groups what can be determined by the harsher weather.\n",
    "<br>\n",
    "<br>For **Customers,** the bike renting is high in demand around summertime, reaching its peak in July. Customers are most probably occasional reiders or tourist coming to visit the Bay Area. For **Subscribers,** the highest demand is from May till October, reaching it's peak in October. "
   ]
  },
  {
   "cell_type": "code",
   "execution_count": 103,
   "metadata": {},
   "outputs": [
    {
     "data": {
      "image/png": "[encoded data removed]",
      "text/plain": [
       "<Figure size 720x360 with 2 Axes>"
      ]
     },
     "metadata": {
      "needs_background": "light"
     },
     "output_type": "display_data"
    }
   ],
   "source": [
    "# weekday usege of the bike sharing system per user type\n",
    "\n",
    "weekday = ['Mon', 'Tue', 'Wed', 'Thu', 'Fri', 'Sat', 'Sun']\n",
    "g = sns.catplot(data=bike18_clean, x='start_time_weekday', col=\"user_type\", kind='count',\n",
    "            color = base_color, order = weekday)\n",
    "g.set_axis_labels(\"Weekday\", \"#Bike Trips\")\n",
    "g.set_titles(\"{col_name}\")\n",
    "g.fig.suptitle('Weekly usage of the bike share system per user type', y=1.03, fontsize=14);"
   ]
  },
  {
   "cell_type": "markdown",
   "metadata": {},
   "source": [
    "There is a different trend on which days customers and subscribers rent bikes. As mentioned above **customers** are most probably occasional riders and tourist who use the bike sharing system on holiday or weekend trips. On the other hand, **subscribers** are most probably daily work/school commuters who use the system within a week.\n",
    "<br>\n",
    "<br>Next, I am going to check when within a day bikes are high in demand."
   ]
  },
  {
   "cell_type": "code",
   "execution_count": 104,
   "metadata": {},
   "outputs": [
    {
     "data": {
      "image/png": "[encoded data removed]",
      "text/plain": [
       "<Figure size 720x360 with 2 Axes>"
      ]
     },
     "metadata": {
      "needs_background": "light"
     },
     "output_type": "display_data"
    }
   ],
   "source": [
    "# hourly usege of the bike sharing system per user type\n",
    "\n",
    "g = sns.catplot(data=bike18_clean, x='start_time_hour', col=\"user_type\", kind='count',\n",
    "            color = base_color)\n",
    "g.set_axis_labels(\"Hour\", \"Bike Trips\")\n",
    "g.set_titles(\"{col_name}\")\n",
    "g.fig.suptitle('Hourly usage of the bike share system per user type', y=1.03, fontsize=14);"
   ]
  },
  {
   "cell_type": "markdown",
   "metadata": {},
   "source": [
    "There is also a different trend of when during the day bikes are rented most often. **Customers** use bikes mainly between 8 am - 7 pm, reaching the renting peak around 5pm. **Subscribers** on the other side use the system at around 8-9am and 5-6pm when they go and come back from work.\n",
    "<br>\n",
    "<br>Next, I am going to check how the trip duration varies between customers and subscribers."
   ]
  },
  {
   "cell_type": "code",
   "execution_count": 100,
   "metadata": {},
   "outputs": [
    {
     "name": "stderr",
     "output_type": "stream",
     "text": [
      "/anaconda3/lib/python3.7/site-packages/seaborn/axisgrid.py:230: UserWarning: The `size` paramter has been renamed to `height`; please update your code.\n",
      "  warnings.warn(msg, UserWarning)\n"
     ]
    },
    {
     "data": {
      "image/png": "[encoded data removed]",
      "text/plain": [
       "<Figure size 720x360 with 2 Axes>"
      ]
     },
     "metadata": {
      "needs_background": "light"
     },
     "output_type": "display_data"
    }
   ],
   "source": [
    "# code for the (histogram) duration (sec) distribution per user type\n",
    "\n",
    "g = sns.FacetGrid(bike18_clean, col=\"user_type\", margin_titles=True, size=5)\n",
    "bin_edges = np.arange(0, 3600,60)\n",
    "g.map(plt.hist, \"duration_sec\", color=base_color, bins=bin_edges)\n",
    "g.set_axis_labels(\"Duration (sec)\", \"Bike Trips\")\n",
    "g.set_titles(col_template = '{col_name}')\n",
    "g.fig.suptitle('Trip duration (sec) histogram per user type', y=1.03, fontsize=14);"
   ]
  },
  {
   "cell_type": "markdown",
   "metadata": {},
   "source": [
    "Looking at both charts (histograms and box plots), we can see that trip durations are longer for customers (9 to 23 minutes) than for subscribers (7 to 13 minutes). This can probably be explained by the fact that subscribers are mainly commuters who take short trips to work/school rather than longer trips around the Bay Area."
   ]
  },
  {
   "cell_type": "markdown",
   "metadata": {},
   "source": [
    "### Talk about some of the relationships you observed in this part of the investigation. How did the feature(s) of interest vary with other features in the dataset?\n",
    "\n",
    "> Adding the user type to the analysis depicted different usage behaviours between customers and subscribers. As mentioned above **customers** are casual riders, most probably tourists who rent bikes mainly in summertime (the peak in July), more often during weekends than weekdays and they rent bikes more often within the day rather than around commute hours (8-9am and 5-6pm). **Subscribers** are daily commuters, who also use the system around summertime, May-October (with the peak in October). They rent bikes more often during weekdays than weekends and mainly around the time they go and go back from work or school (8-9am and 5-6pm).\n",
    "\n",
    "### Did you observe any interesting relationships between the other features (not the main feature(s) of interest)?\n",
    "\n",
    "> There is a difference in the trip duration between customers and subscribers. **Customers** trips are usually longer than for subscribers, most probably due to the fact they prefer bike rides around weekends in summertime, what encourages longer trips around the area. **Subscribers** on the other hand use the system mainly for commute purposes so they rather prefer quick rides to and from work/school."
   ]
  },
  {
   "cell_type": "markdown",
   "metadata": {},
   "source": [
    "<a id='multivariate'></a>\n",
    "## Part VI - Multivariate Exploration\n",
    "\n",
    "In this section I will further explore the dataset by adding gender to the customer type and check the hourly distribution of bike rides during weekdays for customers and subscribers."
   ]
  },
  {
   "cell_type": "code",
   "execution_count": 57,
   "metadata": {
    "scrolled": true
   },
   "outputs": [
    {
     "data": {
      "image/png": "[encoded data removed]",
      "text/plain": [
       "<Figure size 720x360 with 1 Axes>"
      ]
     },
     "metadata": {
      "needs_background": "light"
     },
     "output_type": "display_data"
    }
   ],
   "source": [
    "plt.figure(figsize = [10, 5])\n",
    "\n",
    "# code for the bar chart\n",
    "plt.subplot(1, 2, 1)\n",
    "\n",
    "g = sns.countplot(data=bike18_clean, x=\"user_type\", hue=\"member_gender\", order=bike18_clean.user_type.value_counts().index)\n",
    "g.set_xlabel('User Type')\n",
    "g.set_ylabel('#Bike Trips');"
   ]
  },
  {
   "cell_type": "markdown",
   "metadata": {},
   "source": [
    "In general, males are using the system more often than females and others (the registration system allows you to choose 'Other' as a gender). However, the ratio is much smaller between males and females for **customers** (more ore less 2:1) than for **subscribers** (3:1).\n",
    "<br>\n",
    "<br>Let's explore if gender affects the way the bike system is used within a year, weekdays and hours of the day."
   ]
  },
  {
   "cell_type": "code",
   "execution_count": 58,
   "metadata": {},
   "outputs": [
    {
     "data": {
      "image/png": "[encoded data removed]",
      "text/plain": [
       "<Figure size 810.375x360 with 2 Axes>"
      ]
     },
     "metadata": {
      "needs_background": "light"
     },
     "output_type": "display_data"
    }
   ],
   "source": [
    "# monthly usege of the bike sharing system per user type and gender\n",
    "\n",
    "g = sns.catplot(data=bike18_clean, x='start_time_month', col=\"user_type\", hue=\"member_gender\", kind='count', sharey = False)\n",
    "g.set_axis_labels(\"Month\", \"#Bike Trips\")\n",
    "g._legend.set_title('Gender')\n",
    "g.set_titles(\"{col_name}\")\n",
    "g.fig.suptitle('Monthly usage of the bike share system per user type and gender', y=1.03, fontsize=14, fontweight='semibold');"
   ]
  },
  {
   "cell_type": "markdown",
   "metadata": {},
   "source": [
    "The trend is very similar for males and females: for **customers,** the highest demand is around summertime, reaching its peak in July; for **subscribers,** the highest demand is from May till October, reaching it's peak in October. Suprisingly, for **customers** there are quite a lot of females using the system between January and March in comparison to males - the ratio is much smaller than for the rest of the year."
   ]
  },
  {
   "cell_type": "code",
   "execution_count": 107,
   "metadata": {},
   "outputs": [
    {
     "data": {
      "image/png": "[encoded data removed]",
      "text/plain": [
       "<Figure size 810.375x360 with 2 Axes>"
      ]
     },
     "metadata": {
      "needs_background": "light"
     },
     "output_type": "display_data"
    }
   ],
   "source": [
    "# weekday usege of the bike sharing system per user type and gender\n",
    "\n",
    "weekday = ['Mon', 'Tue', 'Wed', 'Thu', 'Fri', 'Sat', 'Sun']\n",
    "g = sns.catplot(data=bike18_clean, x='start_time_weekday', col=\"user_type\", hue='member_gender', kind='count', sharey = False,\n",
    "                order = weekday)\n",
    "g.set_axis_labels(\"Weekday\", \"#Bike Trips\")\n",
    "g._legend.set_title('Gender')\n",
    "g.set_titles(\"{col_name}\")\n",
    "g.fig.suptitle('Weekly usage of the bike share system per user type and gender', y=1.03, fontsize=14, fontweight='semibold');"
   ]
  },
  {
   "cell_type": "markdown",
   "metadata": {},
   "source": [
    "As in the previous section, the trend is very similar for males and females: **customers** use the system more often during weekends than within a week (although the jump in bike used on weekends is much higher for females than for males); **subscribers** use the system mainly within a week."
   ]
  },
  {
   "cell_type": "code",
   "execution_count": 108,
   "metadata": {},
   "outputs": [
    {
     "data": {
      "image/png": "[encoded data removed]",
      "text/plain": [
       "<Figure size 810.375x360 with 2 Axes>"
      ]
     },
     "metadata": {
      "needs_background": "light"
     },
     "output_type": "display_data"
    }
   ],
   "source": [
    "# hourly usege of the bike sharing system per user type and gender\n",
    "\n",
    "g = sns.catplot(data=bike18_clean, x='start_time_hour', col=\"user_type\", hue='member_gender', kind='count', sharey = False)\n",
    "g.set_axis_labels(\"Hour\", \"#Bike Trips\")\n",
    "g._legend.set_title('Gender')\n",
    "g.set_titles(\"{col_name}\")\n",
    "g.fig.suptitle('Hourly usage of the bike share system per user type and gender', y=1.03, fontsize=14);"
   ]
  },
  {
   "cell_type": "markdown",
   "metadata": {},
   "source": [
    "During the day, both males and females use the system the same way: **customers** use bikes mainly between 8 am - 7 pm; **subscribers** on the other side use the system at around 8-9am and 5-6pm when they go and come back from work."
   ]
  },
  {
   "cell_type": "code",
   "execution_count": 110,
   "metadata": {},
   "outputs": [
    {
     "data": {
      "image/png": "[encoded data removed]",
      "text/plain": [
       "<Figure size 648x576 with 4 Axes>"
      ]
     },
     "metadata": {
      "needs_background": "light"
     },
     "output_type": "display_data"
    }
   ],
   "source": [
    "# Setting the weekday order\n",
    "bike18_clean['start_time_weekday'] = pd.Categorical(bike18_clean['start_time_weekday'], \n",
    "                                                categories=['Mon','Tue','Wed','Thu','Fri','Sat', 'Sun'], \n",
    "                                                ordered=True)\n",
    "plt.figure(figsize=(9,8))\n",
    "plt.suptitle('Hourly usage during the weekday for customers and subscribers', fontsize=14)\n",
    "\n",
    "# heatmap for customers\n",
    "plt.subplot(1, 2, 1)\n",
    "bike18_customer = bike18_clean.query('user_type == \"Customer\"').groupby([\"start_time_hour\", \"start_time_weekday\"])[\"bike_id\"].size().reset_index()\n",
    "bike18_customer = bike18_customer.pivot(\"start_time_hour\", \"start_time_weekday\", \"bike_id\")\n",
    "sns.heatmap(bike18_customer, cmap=\"Blues\")\n",
    "\n",
    "plt.title(\"Customer\", y=1.015)\n",
    "plt.xlabel('Weekday')\n",
    "plt.ylabel('Start Time Hour')\n",
    "\n",
    "# heatmap for subscribers\n",
    "plt.subplot(1, 2, 2)\n",
    "bike18_subscriber = bike18_clean.query('user_type == \"Subscriber\"').groupby([\"start_time_hour\", \"start_time_weekday\"])[\"bike_id\"].size().reset_index()\n",
    "bike18_subscriber = bike18_subscriber.pivot(\"start_time_hour\", \"start_time_weekday\", \"bike_id\")\n",
    "sns.heatmap(bike18_subscriber, cmap=\"Blues\")\n",
    "\n",
    "plt.title(\"Subscriber\", y=1.015)\n",
    "plt.xlabel('Weekday')\n",
    "plt.ylabel('');"
   ]
  },
  {
   "cell_type": "markdown",
   "metadata": {},
   "source": [
    "The plot perfectly summarizes in one place the diffrent trends for customers and subscribers I was writing up before.\n",
    "<br>\n",
    "#### Customers use the bike sharing system more often on weekends:\n",
    " * weekdays: most bike rides hapen around 8-9am and 5-6pm with the peak on Fridays around 5pm\n",
    " * weekends: most bike rides happen between 10am - 8pm with the peak on Saturdays around 2pm\n",
    "\n",
    "#### Subscribers use the bike sharing system mainly on weekdays:\n",
    " * weekdays: most bike rides hapen around 8-9am and 5-6pm with the peak on Tuesdays around 8am\n",
    " * weekends: bikes are still rented but there is a significant drop in numbers of rented bikes throughout the entire weekends"
   ]
  },
  {
   "cell_type": "markdown",
   "metadata": {},
   "source": [
    "### Talk about some of the relationships you observed in this part of the investigation. Were there features that strengthened each other in terms of looking at your feature(s) of interest?\n",
    "\n",
    "> Plotting a heatmap of when bikes are high in demand throughout the day on each weekday shed a new light on the customers behaviour. Plotting #bike trips throughout the day and #bike trips within the weekdays separately gave the impression that the demand for bikes is quite high throughout the day with a peak around 5pm which is not entirely true. The trend within weekdays for customers follows (although customers are rather not early birds) the one for subscribers who rent bikes mainly around commute hours (8-9am and 5-6pm). For customers, as depicted in univariate explorations, most of the trips happen on weekends but mainly between 10am - 8pm with the peak on Saturdays around 2pm, what was previosly not visible.\n",
    "\n",
    "### Were there any interesting or surprising interactions between features?\n",
    "\n",
    "> I have also checked if there is a trend difference for genders for each user group. There are not much of the differences in trends but surprisingly there are quite a lot of females using the system between January and March in comparison to males - the ratio (male:female) is much smaller than for the rest of the year. Moreover females take longer trips (measured in time) than males and others."
   ]
  }
 ],
 "metadata": {
  "kernelspec": {
   "display_name": "Python 3",
   "language": "python",
   "name": "python3"
  },
  "language_info": {
   "codemirror_mode": {
    "name": "ipython",
    "version": 3
   },
   "file_extension": ".py",
   "mimetype": "text/x-python",
   "name": "python",
   "nbconvert_exporter": "python",
   "pygments_lexer": "ipython3",
   "version": "3.7.3"
  }
 },
 "nbformat": 4,
 "nbformat_minor": 2
}
